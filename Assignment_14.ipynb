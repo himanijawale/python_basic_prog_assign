{
 "cells": [
  {
   "cell_type": "code",
   "execution_count": 102,
   "metadata": {},
   "outputs": [
    {
     "name": "stdout",
     "output_type": "stream",
     "text": [
      "Enter the number:\t44\n",
      "The numbers are: 0, 7, 14, 21, 28, 35, 42, "
     ]
    }
   ],
   "source": [
    "#Question 1:\n",
    "#Define a class with a generator which can iterate the numbers, which are divisible by 7,\n",
    "#between a given range 0 and n.\n",
    "def check_div(x):\n",
    "    for i in range(x):\n",
    "        if i %7 ==0:\n",
    "            print(i,end=\", \")\n",
    "div=int(input(\"Enter the number:\\t\"))\n",
    "print(\"The numbers are:\",end=\" \")\n",
    "check_div(div)"
   ]
  },
  {
   "cell_type": "code",
   "execution_count": 52,
   "metadata": {},
   "outputs": [
    {
     "name": "stdout",
     "output_type": "stream",
     "text": [
      "Enter sentence:\thello this is my program, this will work fine\n",
      "{'fine': 1, 'hello': 1, 'is': 1, 'my': 1, 'program,': 1, 'this': 2, 'will': 1, 'work': 1}\n"
     ]
    }
   ],
   "source": [
    "#Question 2:\n",
    "#Write a program to compute the frequency of the words from the input. The output should output \n",
    "#after sorting the key alphanumerically. \n",
    "#Suppose the following input is supplied to the program:\n",
    "#New to Python or choosing between Python 2 and Python 3? Read Python 2 or Python 3.\n",
    "#Then, the output should be:\n",
    "#2:2\n",
    "#3.:1\n",
    "#3?:1\n",
    "#New:1\n",
    "#Python:5\n",
    "#Read:1\n",
    "#and:1\n",
    "#between:1\n",
    "#choosing:1\n",
    "#or:2\n",
    "#to:1\n",
    "def count_numbers(x):\n",
    "    f={}\n",
    "    for i in x:\n",
    "        if i in f:\n",
    "            f[i]+=1\n",
    "        else:\n",
    "            f[i]=1\n",
    "    print(f)\n",
    "sentence = input(\"Enter sentence:\\t\").split(\" \")\n",
    "count_numbers(sorted(sentence))"
   ]
  },
  {
   "cell_type": "code",
   "execution_count": 69,
   "metadata": {},
   "outputs": [
    {
     "name": "stdout",
     "output_type": "stream",
     "text": [
      "The gender is:\t Male\n",
      "The gender is:\t Female\n"
     ]
    }
   ],
   "source": [
    "#Question 3:\n",
    "#Define a class Person and its two child classes: Male and Female. All classes have a method\n",
    "#\"getGender\" which can print \"Male\" for Male class and \"Female\" for Female class.\n",
    "class Person:\n",
    "    def getgender(self):\n",
    "        return(\"unknown\")\n",
    "class Male(Person):\n",
    "    def getgender(self):\n",
    "        return(\"Male\")\n",
    "class Female(Person):\n",
    "    def getgender(self):\n",
    "        return(\"Female\")\n",
    "m=Male()\n",
    "f=Female()\n",
    "print(\"The gender is:\\t\",m.getgender())\n",
    "print(\"The gender is:\\t\",f.getgender())"
   ]
  },
  {
   "cell_type": "code",
   "execution_count": 73,
   "metadata": {},
   "outputs": [
    {
     "name": "stdout",
     "output_type": "stream",
     "text": [
      "I Play Hockey\n",
      "I Play Football\n",
      "I Love Hockey\n",
      "I Love Football\n",
      "You Play Hockey\n",
      "You Play Football\n",
      "You Love Hockey\n",
      "You Love Football\n"
     ]
    }
   ],
   "source": [
    "#Question 4:\n",
    "#Please write a program to generate all sentences where subject is in [\"I\", \"You\"] and verb is\n",
    "#in [\"Play\", \"Love\"] and the object is in [\"Hockey\",\"Football\"].\n",
    "s=[\"I\",\"You\"]\n",
    "v=[\"Play\",\"Love\"]\n",
    "o=[\"Hockey\",\"Football\"]\n",
    "l=[]\n",
    "for i in s:\n",
    "    for j in v:\n",
    "        for k in o:\n",
    "            l.append(i+\" \"+j+\" \"+k)\n",
    "for i in l:\n",
    "    print(i)"
   ]
  },
  {
   "cell_type": "code",
   "execution_count": 83,
   "metadata": {},
   "outputs": [
    {
     "name": "stdout",
     "output_type": "stream",
     "text": [
      "The compressed string is \t b'x\\x9c\\xcbH\\xcd\\xc9\\xc9W(\\xcf/\\xcaIQ\\xcc \\x82\\r\\x00\\xbd[\\x11\\xf5'\n",
      "The decompressed string is \t b'hello world!hello world!hello world!hello world!'\n"
     ]
    }
   ],
   "source": [
    "#Question 5:\n",
    "#Please write a program to compress and decompress the string \"hello world!hello world!hello\n",
    "#world!hello world!\".\n",
    "def comp(x):\n",
    "    return zlib.compress(x.encode())\n",
    "def decomp(x):\n",
    "    return zlib.decompress(x)\n",
    "import zlib\n",
    "str1= \"hello world!hello world!hello world!hello world!\"\n",
    "comp= comp(str1)\n",
    "decomp= decomp(comp)\n",
    "print(\"The compressed string is \\t\",comp)\n",
    "print(\"The decompressed string is \\t\",decomp)"
   ]
  },
  {
   "cell_type": "code",
   "execution_count": 100,
   "metadata": {},
   "outputs": [
    {
     "name": "stdout",
     "output_type": "stream",
     "text": [
      "Enter numbers:\t1 3 4 5 6 7 7 8 \n",
      "Enter number to be searched:\t6\n",
      "The number  6  is at index  4\n"
     ]
    }
   ],
   "source": [
    "#Question 6:\n",
    "#Please write a binary search function which searches an item in a sorted list. The function \n",
    "#should return the index of element to be searched in the list.\n",
    "def binary_ser(x,n):\n",
    "    start=0\n",
    "    end=len(x)-1\n",
    "    mid=0\n",
    "    while start <= end:\n",
    "        mid=(start+end)//2\n",
    "        \n",
    "        if int(x[mid])<n:\n",
    "            start=mid+1\n",
    "        elif int(x[mid])>n:\n",
    "            end=mid-1\n",
    "        else:\n",
    "            return mid\n",
    "    return -1\n",
    "\n",
    "l=input(\"Enter numbers:\\t\").split(\" \")\n",
    "n=int(input(\"Enter number to be searched:\\t\"))\n",
    "ser=binary_ser(l,n)\n",
    "print(\"The number \",n,\" is at index \",ser)"
   ]
  },
  {
   "cell_type": "code",
   "execution_count": null,
   "metadata": {},
   "outputs": [],
   "source": []
  }
 ],
 "metadata": {
  "kernelspec": {
   "display_name": "Python 3",
   "language": "python",
   "name": "python3"
  },
  "language_info": {
   "codemirror_mode": {
    "name": "ipython",
    "version": 3
   },
   "file_extension": ".py",
   "mimetype": "text/x-python",
   "name": "python",
   "nbconvert_exporter": "python",
   "pygments_lexer": "ipython3",
   "version": "3.8.3"
  }
 },
 "nbformat": 4,
 "nbformat_minor": 4
}
