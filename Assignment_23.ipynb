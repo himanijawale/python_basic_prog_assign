{
 "cells": [
  {
   "cell_type": "code",
   "execution_count": 13,
   "metadata": {},
   "outputs": [
    {
     "name": "stdout",
     "output_type": "stream",
     "text": [
      "Enter number:\t9939\n"
     ]
    },
    {
     "data": {
      "text/plain": [
       "False"
      ]
     },
     "execution_count": 13,
     "metadata": {},
     "output_type": "execute_result"
    }
   ],
   "source": [
    "#Question 1\n",
    "#Create a function that takes a number as an argument and returns True or False depending on \n",
    "#whether the number is symmetrical or not. A number is symmetrical when it is the same as its \n",
    "#reverse.\n",
    "#Examples\n",
    "#is_symmetrical(7227) ➞ True\n",
    "\n",
    "#is_symmetrical(12567) ➞ False\n",
    "\n",
    "#is_symmetrical(44444444) ➞ True\n",
    "\n",
    "#is_symmetrical(9939) ➞ False\n",
    "\n",
    "#is_symmetrical(1112111) ➞ True\n",
    "\n",
    "def is_symmetrical(n):\n",
    "    if n == n[::-1]:\n",
    "        return True\n",
    "    return False\n",
    "\n",
    "input_int = input(\"Enter number:\\t\")\n",
    "\n",
    "is_symmetrical(input_int)"
   ]
  },
  {
   "cell_type": "code",
   "execution_count": 30,
   "metadata": {},
   "outputs": [
    {
     "name": "stdout",
     "output_type": "stream",
     "text": [
      "Enter string:\t54, 75, 453, 0\n"
     ]
    },
    {
     "data": {
      "text/plain": [
       "0"
      ]
     },
     "execution_count": 30,
     "metadata": {},
     "output_type": "execute_result"
    }
   ],
   "source": [
    "#Question 2\n",
    "#Given a string of numbers separated by a comma and space, return the product of the numbers.\n",
    "#Examples\n",
    "#multiply_nums(\"2, 3\") ➞ 6\n",
    "\n",
    "#multiply_nums(\"1, 2, 3, 4\") ➞ 24\n",
    "\n",
    "#multiply_nums(\"54, 75, 453, 0\") ➞ 0\n",
    "\n",
    "#multiply_nums(\"10, -2\") ➞ -20\n",
    "\n",
    "def multiply_nums(str1):\n",
    "    l = [int(i) for i in str1.split(\",\")]\n",
    "    sum=1\n",
    "    for i in l:\n",
    "        sum*=i\n",
    "    return sum\n",
    "\n",
    "int_list = input(\"Enter string:\\t\")\n",
    "\n",
    "multiply_nums(int_list)\n"
   ]
  },
  {
   "cell_type": "code",
   "execution_count": 10,
   "metadata": {},
   "outputs": [
    {
     "name": "stdout",
     "output_type": "stream",
     "text": [
      "Enter number:\t2483\n"
     ]
    },
    {
     "data": {
      "text/plain": [
       "'416649'"
      ]
     },
     "execution_count": 10,
     "metadata": {},
     "output_type": "execute_result"
    }
   ],
   "source": [
    "#Question 3\n",
    "#Create a function that squares every digit of a number.\n",
    "#Examples\n",
    "#square_digits(9119) ➞ 811181\n",
    "\n",
    "#square_digits(2483) ➞ 416649\n",
    "\n",
    "#square_digits(3212) ➞ 9414\n",
    "#Notes\n",
    "#The function receives an integer and must return an integer.\n",
    "\n",
    "def square_digits(x):\n",
    "    return \"\".join([str(int(x[i])**2) for i in range(len(x))])\n",
    "        \n",
    "x=input(\"Enter number:\\t\")\n",
    "\n",
    "square_digits(x)"
   ]
  },
  {
   "cell_type": "code",
   "execution_count": 14,
   "metadata": {},
   "outputs": [
    {
     "data": {
      "text/plain": [
       "[1, 2, 3]"
      ]
     },
     "execution_count": 14,
     "metadata": {},
     "output_type": "execute_result"
    }
   ],
   "source": [
    "#Question 4\n",
    "#Create a function that sorts a list and removes all duplicate items from it.\n",
    "#Examples\n",
    "#setify([1, 3, 3, 5, 5]) ➞ [1, 3, 5]\n",
    "\n",
    "#setify([4, 4, 4, 4]) ➞ [4]\n",
    "\n",
    "#setify([5, 7, 8, 9, 10, 15]) ➞ [5, 7, 8, 9, 10, 15]\n",
    "\n",
    "#setify([3, 3, 3, 2, 1]) ➞ [1, 2, 3]\n",
    "\n",
    "#Another solution: sorted(list(dict.fromkeys([3, 3, 3, 2, 1])))\n",
    "\n",
    "def setify(l1):\n",
    "    return sorted(list(set(l1)))\n",
    "\n",
    "setify([3, 3, 3, 2, 1])"
   ]
  },
  {
   "cell_type": "code",
   "execution_count": 22,
   "metadata": {},
   "outputs": [
    {
     "name": "stdout",
     "output_type": "stream",
     "text": [
      "Enter number:\t12345\n"
     ]
    },
    {
     "data": {
      "text/plain": [
       "3"
      ]
     },
     "execution_count": 22,
     "metadata": {},
     "output_type": "execute_result"
    }
   ],
   "source": [
    "#Question 5\n",
    "#Create a function that returns the mean of all digits.\n",
    "#Examples\n",
    "#mean(42) ➞ 3\n",
    "\n",
    "#mean(12345) ➞ 3\n",
    "\n",
    "#mean(666) ➞ 6\n",
    "#Notes\n",
    "#The mean of all digits is the sum of digits / how many digits there are (e.g. mean of digits in \n",
    "#            512 is (5+1+2)/3(number of digits) = 8/3=2).\n",
    "#The mean will always be an integer.\n",
    "\n",
    "def mean(x):\n",
    "    sum=0\n",
    "    for i in x:\n",
    "        sum+=int(i)\n",
    "    return sum//len(x)\n",
    "\n",
    "input_num = input(\"Enter number:\\t\")\n",
    "\n",
    "mean(input_num)        \n"
   ]
  }
 ],
 "metadata": {
  "kernelspec": {
   "display_name": "Python 3",
   "language": "python",
   "name": "python3"
  },
  "language_info": {
   "codemirror_mode": {
    "name": "ipython",
    "version": 3
   },
   "file_extension": ".py",
   "mimetype": "text/x-python",
   "name": "python",
   "nbconvert_exporter": "python",
   "pygments_lexer": "ipython3",
   "version": "3.8.3"
  }
 },
 "nbformat": 4,
 "nbformat_minor": 4
}
