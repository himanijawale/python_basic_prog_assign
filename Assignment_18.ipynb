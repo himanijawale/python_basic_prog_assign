{
 "cells": [
  {
   "cell_type": "code",
   "execution_count": 28,
   "metadata": {},
   "outputs": [
    {
     "name": "stdout",
     "output_type": "stream",
     "text": [
      "[1, 2, 123]\n"
     ]
    }
   ],
   "source": [
    "#Question 1\n",
    "#Create a function that takes a list of non-negative integers and strings and return a new list \n",
    "#without the strings.\n",
    "#Examples\n",
    "#filter_list([1, 2, \"a\", \"b\"]) ➞ [1, 2]\n",
    "\n",
    "#filter_list([1, \"a\", \"b\", 0, 15]) ➞ [1, 0, 15]\n",
    "\n",
    "#filter_list([1, 2, \"aasf\", \"1\", \"123\", 123]) ➞ [1, 2, 123]\n",
    "\n",
    "def filter_list(x):\n",
    "    l=[]\n",
    "    for i in range(len(x)):\n",
    "        if type(x[i])==str:\n",
    "            l.append(i)\n",
    "    l=l[::-1]\n",
    "    for i in l:\n",
    "        del x[i]\n",
    "    return x\n",
    "\n",
    "list1 = filter_list([1, 2, \"aasf\", \"1\", \"123\", 123])\n",
    "print(list1)"
   ]
  },
  {
   "cell_type": "code",
   "execution_count": 19,
   "metadata": {},
   "outputs": [
    {
     "name": "stdout",
     "output_type": "stream",
     "text": [
      "eSrEvEr\n"
     ]
    }
   ],
   "source": [
    "#Question 2\n",
    "#The \"Reverser\" takes a string as input and returns that string in reverse order, with the \n",
    "#opposite case.\n",
    "#Examples\n",
    "#reverse(\"Hello World\") ➞ \"DLROw OLLEh\"\n",
    "\n",
    "#reverse(\"ReVeRsE\") ➞ \"eSrEvEr\"\n",
    "\n",
    "#reverse(\"Radar\") ➞ \"RADAr\"\n",
    "\n",
    "def reverse(x):\n",
    "    x=x[::-1]\n",
    "    for i in range(len(x)):\n",
    "        if x[i].isupper():\n",
    "            x=x[:i]+x[i].lower()+x[i+1:]\n",
    "        else:\n",
    "            x=x[:i]+x[i].upper()+x[i+1:]\n",
    "    print(x)\n",
    "\n",
    "reverse(\"ReVeRsE\")"
   ]
  },
  {
   "cell_type": "code",
   "execution_count": 33,
   "metadata": {},
   "outputs": [
    {
     "name": "stdout",
     "output_type": "stream",
     "text": [
      "1\n",
      "[2, 3, 4, 5]\n",
      "6\n"
     ]
    }
   ],
   "source": [
    "#Question 3\n",
    "#You can assign variables from lists like this:\n",
    "#lst = [1, 2, 3, 4, 5, 6]\n",
    "#first = lst[0]\n",
    "#middle = lst[1:-1]\n",
    "#last = lst[-1]\n",
    "\n",
    "#print(first) ➞ outputs 1\n",
    "#print(middle) ➞ outputs [2, 3, 4, 5]\n",
    "#print(last) ➞ outputs 6\n",
    "#With Python 3, you can assign variables from lists in a much more succinct way. Create variables\n",
    "#first, middle and last from the given list using destructuring assignment (check the Resources\n",
    "#tab for some examples), where:\n",
    "#first  ➞ 1\n",
    "\n",
    "#middle ➞ [2, 3, 4, 5]\n",
    "\n",
    "#last ➞ 6\n",
    "#Your task is to unpack the list writeyourcodehere into three variables, being first, middle,\n",
    "#and last, with middle being everything in between the first and last element. Then print all \n",
    "#three variables.\n",
    "lst=[1,2,3,4,5,6]\n",
    "first,*middle,last=lst\n",
    "print(first)\n",
    "print(middle)\n",
    "print(last)"
   ]
  },
  {
   "cell_type": "code",
   "execution_count": 39,
   "metadata": {},
   "outputs": [
    {
     "name": "stdout",
     "output_type": "stream",
     "text": [
      "Enter number:\t5\n",
      "120\n"
     ]
    }
   ],
   "source": [
    "#Question 4\n",
    "#Write a function that calculates the factorial of a number recursively.\n",
    "#Examples\n",
    "#factorial(5) ➞ 120\n",
    "\n",
    "#factorial(3) ➞ 6\n",
    "\n",
    "#factorial(1) ➞ 1\n",
    "\n",
    "#factorial(0) ➞ 1\n",
    "\n",
    "def factorial(x):\n",
    "    if x==0 or x==1:\n",
    "        return 1\n",
    "    else:\n",
    "        return x*factorial(x-1)\n",
    "\n",
    "num=int(input(\"Enter number:\\t\"))\n",
    "if num<0:\n",
    "    print(\"No factorial for negative numbers\")\n",
    "else:\n",
    "    print(factorial(5))"
   ]
  },
  {
   "cell_type": "code",
   "execution_count": 48,
   "metadata": {},
   "outputs": [
    {
     "name": "stdout",
     "output_type": "stream",
     "text": [
      "[3, 2, 4, 4, 1, 1]\n"
     ]
    }
   ],
   "source": [
    "#Question 5\n",
    "#Write a function that moves all elements of one type to the end of the list.\n",
    "#Examples\n",
    "#move_to_end([1, 3, 2, 4, 4, 1], 1) ➞ [3, 2, 4, 4, 1, 1]\n",
    "# Move all the 1s to the end of the array.\n",
    "\n",
    "#move_to_end([7, 8, 9, 1, 2, 3, 4], 9) ➞ [7, 8, 1, 2, 3, 4, 9]\n",
    "\n",
    "#move_to_end([\"a\", \"a\", \"a\", \"b\"], \"a\") ➞ [\"b\", \"a\", \"a\", \"a\"]\n",
    "\n",
    "def move_to_end(x,y):\n",
    "    l=[]\n",
    "    for i in range(len(x)):\n",
    "        if x[i]==y:\n",
    "            l.append(i)\n",
    "    \n",
    "    for i in l[::-1]:\n",
    "        del x[i]\n",
    "        x.append(y)\n",
    "    print(x)\n",
    "move_to_end([1, 3, 2, 4, 4, 1], 1)"
   ]
  },
  {
   "cell_type": "code",
   "execution_count": null,
   "metadata": {},
   "outputs": [],
   "source": []
  }
 ],
 "metadata": {
  "kernelspec": {
   "display_name": "Python 3",
   "language": "python",
   "name": "python3"
  },
  "language_info": {
   "codemirror_mode": {
    "name": "ipython",
    "version": 3
   },
   "file_extension": ".py",
   "mimetype": "text/x-python",
   "name": "python",
   "nbconvert_exporter": "python",
   "pygments_lexer": "ipython3",
   "version": "3.8.3"
  }
 },
 "nbformat": 4,
 "nbformat_minor": 4
}
