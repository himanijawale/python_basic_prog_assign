{
 "cells": [
  {
   "cell_type": "code",
   "execution_count": 3,
   "metadata": {},
   "outputs": [
    {
     "name": "stdout",
     "output_type": "stream",
     "text": [
      "Enter a:\t1\n",
      "Enter b:\t10\n",
      "Enter c:\t2\n",
      "30  is sum of numbers evenly divided by  2\n"
     ]
    }
   ],
   "source": [
    "#Question1. Create a function that takes three arguments a, b, c and returns the sum of the numbers\n",
    "#that are evenly divided by c from the range a, b inclusive.\n",
    "#Examples\n",
    "#evenly_divisible(1, 10, 20) ➞ 0\n",
    "# No number between 1 and 10 can be evenly divided by 20.\n",
    "\n",
    "#evenly_divisible(1, 10, 2) ➞ 30\n",
    "# 2 + 4 + 6 + 8 + 10 = 30\n",
    "\n",
    "#evenly_divisible(1, 10, 3) ➞ 18\n",
    "# 3 + 6 + 9 = 18\n",
    "\n",
    "def evenly_distributed(x,y,z):\n",
    "    sum=0\n",
    "    for i in range(x,y+1):\n",
    "        if i%z ==0:\n",
    "            sum+=i\n",
    "    return sum\n",
    "\n",
    "a=int(input(\"Enter a:\\t\"))\n",
    "b=int(input(\"Enter b:\\t\"))\n",
    "c=int(input(\"Enter c:\\t\"))\n",
    "sum = evenly_distributed(a,b,c)\n",
    "if sum ==0:\n",
    "    print(\"No number between \",a,\" and \",b,\" can be evenly divided by \",c)\n",
    "else:\n",
    "    print(sum,\" is sum of numbers evenly divided by \",c)"
   ]
  },
  {
   "cell_type": "code",
   "execution_count": 17,
   "metadata": {},
   "outputs": [
    {
     "name": "stdout",
     "output_type": "stream",
     "text": [
      "Enter expression:\t1 < 2 < 6 < 9 > 3\n",
      "True\n"
     ]
    }
   ],
   "source": [
    "#Question2. Create a function that returns True if a given inequality expression is correct and \n",
    "#False otherwise.\n",
    "#Examples\n",
    "#correct_signs(\"3 < 7 < 11\") ➞ True\n",
    "\n",
    "#correct_signs(\"13 > 44 > 33 > 1\") ➞ False\n",
    "\n",
    "#correct_signs(\"1 < 2 < 6 < 9 > 3\") ➞ True\n",
    "\n",
    "def correct_signs(x):\n",
    "    j=0\n",
    "    sign =-1\n",
    "    flag=0\n",
    "    for i in x:\n",
    "        if i==\" \":\n",
    "            pass\n",
    "        elif i.isnumeric():\n",
    "            if j==1:\n",
    "                num2 =i\n",
    "                if sign==1:\n",
    "                    if num1 < num2:\n",
    "                        pass\n",
    "                    else:\n",
    "                        flag=1\n",
    "                        break\n",
    "                if sign ==2:\n",
    "                    if num1>num2:\n",
    "                        pass\n",
    "                    else:\n",
    "                        flag=1\n",
    "                        break\n",
    "                num1=num2\n",
    "            else:\n",
    "                j=1\n",
    "                num1=i\n",
    "        elif i ==\"<\":\n",
    "            sign = 1\n",
    "        elif i ==\">\":\n",
    "            sign=2\n",
    "    if flag==0:\n",
    "        print(\"True\")\n",
    "    else:\n",
    "        print(\"False\")\n",
    "\n",
    "in_exp=input('Enter expression:\\t')\n",
    "correct_signs(in_exp)"
   ]
  },
  {
   "cell_type": "code",
   "execution_count": 41,
   "metadata": {},
   "outputs": [
    {
     "name": "stdout",
     "output_type": "stream",
     "text": [
      "Enter string:\tminnie mouse\n",
      "Enter special character:\t?\n",
      "m?nn?? m??s?\n"
     ]
    }
   ],
   "source": [
    "#Question3. Create a function that replaces all the vowels in a string with a specified character.\n",
    "#Examples\n",
    "#replace_vowels(\"the aardvark\", \"#\") ➞ \"th# ##rdv#rk\"\n",
    "\n",
    "#replace_vowels(\"minnie mouse\", \"?\") ➞ \"m?nn?? m??s?\"\n",
    "\n",
    "#replace_vowels(\"shakespeare\", \"*\") ➞ \"sh*k*sp**r*\"\n",
    "\n",
    "def replace_vowels(x,y):\n",
    "    list1=['a','e','i','o','u']\n",
    "    for i in range(len(x)):\n",
    "        if x[i] in list1:\n",
    "            x=x.replace(x[i],y,1)\n",
    "    return x\n",
    "\n",
    "in_st=input(\"Enter string:\\t\")\n",
    "char=input(\"Enter special character:\\t\")\n",
    "output=replace_vowels(in_st,char)\n",
    "print(output)"
   ]
  },
  {
   "cell_type": "code",
   "execution_count": 44,
   "metadata": {},
   "outputs": [
    {
     "name": "stdout",
     "output_type": "stream",
     "text": [
      "Enter number:\t5\n",
      "The factorial of  5  is:\t120\n"
     ]
    }
   ],
   "source": [
    "#Question4. Write a function that calculates the factorial of a number recursively.\n",
    "#Examples\n",
    "#factorial(5) ➞ 120\n",
    "\n",
    "#factorial(3) ➞ 6\n",
    "\n",
    "#factorial(1) ➞ 1\n",
    "\n",
    "#factorial(0) ➞ 1\n",
    "def factorial(x):\n",
    "    if x==0  or x==1:\n",
    "        return 1\n",
    "    else:\n",
    "        return x*factorial(x-1)\n",
    "num=int(input(\"Enter number:\\t\"))\n",
    "if num<0:\n",
    "    print(\"No factorial for negative numbers\")\n",
    "else:\n",
    "    print(\"The factorial of \",num,\" is:\\t\",end=\"\")\n",
    "    fact = factorial(num)\n",
    "    print(fact)\n"
   ]
  },
  {
   "cell_type": "code",
   "execution_count": 51,
   "metadata": {},
   "outputs": [
    {
     "name": "stdout",
     "output_type": "stream",
     "text": [
      "Enter strin1:\tabcde\n",
      "Enter strign2:\tbcdef\n",
      "5\n"
     ]
    }
   ],
   "source": [
    "#Question 5\n",
    "#Hamming distance is the number of characters that differ between two strings.\n",
    "#To illustrate:\n",
    "#String1: \"abcbba\"\n",
    "#String2: \"abcbda\"\n",
    "\n",
    "#Hamming Distance: 1 - \"b\" vs. \"d\" is the only difference.\n",
    "#Create a function that computes the hamming distance between two strings.\n",
    "#Examples\n",
    "#hamming_distance(\"abcde\", \"bcdef\") ➞ 5\n",
    "\n",
    "#hamming_distance(\"abcde\", \"abcde\") ➞ 0\n",
    "\n",
    "#hamming_distance(\"strong\", \"strung\") ➞ 1\n",
    "def hamming_distance(x,y):\n",
    "    ham_dist=0\n",
    "    if len(x)!=len(y):\n",
    "        ham_dist=abs(len(x)-len(y))\n",
    "    else:\n",
    "        for i ,j in zip(x,y):\n",
    "            if i!=j:\n",
    "                ham_dist+=1\n",
    "    return ham_dist\n",
    "\n",
    "str1=input(\"Enter strin1:\\t\")\n",
    "str2=input(\"Enter strign2:\\t\")\n",
    "ham_len=hamming_distance(str1,str2)\n",
    "print(ham_len)"
   ]
  },
  {
   "cell_type": "code",
   "execution_count": null,
   "metadata": {},
   "outputs": [],
   "source": []
  }
 ],
 "metadata": {
  "kernelspec": {
   "display_name": "Python 3",
   "language": "python",
   "name": "python3"
  },
  "language_info": {
   "codemirror_mode": {
    "name": "ipython",
    "version": 3
   },
   "file_extension": ".py",
   "mimetype": "text/x-python",
   "name": "python",
   "nbconvert_exporter": "python",
   "pygments_lexer": "ipython3",
   "version": "3.8.3"
  }
 },
 "nbformat": 4,
 "nbformat_minor": 4
}
