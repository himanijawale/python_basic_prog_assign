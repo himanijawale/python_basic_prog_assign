{
 "cells": [
  {
   "cell_type": "code",
   "execution_count": 5,
   "metadata": {},
   "outputs": [
    {
     "data": {
      "text/plain": [
       "[]"
      ]
     },
     "execution_count": 5,
     "metadata": {},
     "output_type": "execute_result"
    }
   ],
   "source": [
    "#Question1\n",
    "#Create a function that takes three parameters where:\n",
    "#x is the start of the range (inclusive).\n",
    "#y is the end of the range (inclusive).\n",
    "#n is the divisor to be checked against.\n",
    "#Return an ordered list with numbers in the range that are divisible by the third parameter n. \n",
    "#Return an empty list if there are no numbers that are divisible by n.\n",
    "#Examples\n",
    "#list_operation(1, 10, 3) ➞ [3, 6, 9]\n",
    "\n",
    "#list_operation(7, 9, 2) ➞ [8]\n",
    "\n",
    "#list_operation(15, 20, 7) ➞ []\n",
    "def list_operation(start,end,div):\n",
    "    return [i for i in range(start,end) if i%div == 0]\n",
    "\n",
    "list_operation(15,20,7)"
   ]
  },
  {
   "cell_type": "code",
   "execution_count": 23,
   "metadata": {},
   "outputs": [
    {
     "data": {
      "text/plain": [
       "False"
      ]
     },
     "execution_count": 23,
     "metadata": {},
     "output_type": "execute_result"
    }
   ],
   "source": [
    "#Question2\n",
    "#Create a function that takes in two lists and returns True if the second list follows the first \n",
    "#list by one element, and False otherwise. In other words, determine if the second list is the\n",
    "#first list shifted to the right by 1.\n",
    "#Examples\n",
    "#simon_says([1, 2], [5, 1]) ➞ True\n",
    "\n",
    "#simon_says([1, 2], [5, 5]) ➞ False\n",
    "\n",
    "#simon_says([1, 2, 3, 4, 5], [0, 1, 2, 3, 4]) ➞ True\n",
    "\n",
    "#simon_says([1, 2, 3, 4, 5], [5, 5, 1, 2, 3]) ➞ False\n",
    "#Notes\n",
    "#Both input lists will be of the same length, and will have a minimum length of 2.\n",
    "#The values of the 0-indexed element in the second list and the n-1th indexed element in the first\n",
    "#list do not matter.\n",
    "\n",
    "def simon_says(l1,l2):\n",
    "    for i in range(0,len(l1)-1):\n",
    "        j=i+1\n",
    "        if l1[i]!=l2[j]:\n",
    "            return False\n",
    "    return True\n",
    "\n",
    "lt1=[1, 2, 3, 4, 5] \n",
    "lt2=[5, 5, 1, 2, 3]\n",
    "\n",
    "simon_says(lt1,lt2)"
   ]
  },
  {
   "cell_type": "code",
   "execution_count": 43,
   "metadata": {},
   "outputs": [
    {
     "name": "stdout",
     "output_type": "stream",
     "text": [
      "Enter firends names separated by , :\tPhoebe, Chandler, Rachel, Ross, Monica, Joey\n"
     ]
    },
    {
     "data": {
      "text/plain": [
       "'CJMPRR'"
      ]
     },
     "execution_count": 43,
     "metadata": {},
     "output_type": "execute_result"
    }
   ],
   "source": [
    "#Question3\n",
    "#A group of friends have decided to start a secret society. The name will be the first letter of \n",
    "#each of their names, sorted in alphabetical order.\n",
    "#Create a function that takes in a list of names and returns the name of the secret society.\n",
    "#Examples\n",
    "#society_name([\"Adam\", \"Sarah\", \"Malcolm\"]) ➞ \"AMS\"\n",
    "\n",
    "#society_name([\"Harry\", \"Newt\", \"Luna\", \"Cho\"]) ➞ \"CHLN\"\n",
    "\n",
    "#society_name([\"Phoebe\", \"Chandler\", \"Rachel\", \"Ross\", \"Monica\", \"Joey\"])\n",
    "\n",
    "def society_name(l1):\n",
    "    l=[i[0] for i in l1]\n",
    "    return (\"\".join([i.upper() for i in sorted(l)]))\n",
    "\n",
    "list1 = input(\"Enter firends names separated by , :\\t\").split(\",\")\n",
    "list1 = list(map(str.strip,list1))\n",
    "society_name(list1)"
   ]
  },
  {
   "cell_type": "code",
   "execution_count": 62,
   "metadata": {},
   "outputs": [
    {
     "name": "stdout",
     "output_type": "stream",
     "text": [
      "Enter the word:\tPasSword\n"
     ]
    },
    {
     "data": {
      "text/plain": [
       "False"
      ]
     },
     "execution_count": 62,
     "metadata": {},
     "output_type": "execute_result"
    }
   ],
   "source": [
    "# Question4\n",
    "#An isogram is a word that has no duplicate letters. Create a function that takes a string and \n",
    "#returns either True or False depending on whether or not it's an \"isogram\".\n",
    "#Examples\n",
    "#is_isogram(\"Algorism\") ➞ True\n",
    "\n",
    "#is_isogram(\"PasSword\") ➞ False\n",
    "# Not case sensitive.\n",
    "\n",
    "#is_isogram(\"Consecutive\") ➞ False\n",
    "#Notes\n",
    "#Ignore letter case (should not be case sensitive).\n",
    "#All test cases contain valid one word strings.\n",
    "\n",
    "def is_isogram(str1):\n",
    "    if len(set(str1.lower()))==len(str1):\n",
    "        return True\n",
    "    return False\n",
    "\n",
    "inp = input(\"Enter the word:\\t\")\n",
    "\n",
    "is_isogram(inp)"
   ]
  },
  {
   "cell_type": "code",
   "execution_count": 96,
   "metadata": {},
   "outputs": [
    {
     "name": "stdout",
     "output_type": "stream",
     "text": [
      "Enter string:\t afr  \n"
     ]
    },
    {
     "data": {
      "text/plain": [
       "True"
      ]
     },
     "execution_count": 96,
     "metadata": {},
     "output_type": "execute_result"
    }
   ],
   "source": [
    "#Question5\n",
    "#Create a function that takes a string and returns True or False, depending on whether the \n",
    "#characters are in order or not.\n",
    "#Examples\n",
    "#is_in_order(\"abc\") ➞ True\n",
    "\n",
    "#is_in_order(\"edabit\") ➞ False\n",
    "\n",
    "#is_in_order(\"123\") ➞ True\n",
    "\n",
    "#is_in_order(\"xyzz\") ➞ True\n",
    "#Notes\n",
    "#You don't have to handle empty strings.\n",
    "\n",
    "def is_in_order(str1):\n",
    "    if not str1 or str1.isspace():\n",
    "        return -1\n",
    "    else:\n",
    "        check_str=\"\".join([i for i in sorted(list(str1.lower()))])\n",
    "        if check_str == str1.lower():\n",
    "            return True\n",
    "    return False\n",
    "\n",
    "inp = input(\"Enter string:\\t\").strip()\n",
    "\n",
    "is_in_order(inp)"
   ]
  },
  {
   "cell_type": "code",
   "execution_count": null,
   "metadata": {},
   "outputs": [],
   "source": []
  }
 ],
 "metadata": {
  "kernelspec": {
   "display_name": "Python 3",
   "language": "python",
   "name": "python3"
  },
  "language_info": {
   "codemirror_mode": {
    "name": "ipython",
    "version": 3
   },
   "file_extension": ".py",
   "mimetype": "text/x-python",
   "name": "python",
   "nbconvert_exporter": "python",
   "pygments_lexer": "ipython3",
   "version": "3.8.3"
  }
 },
 "nbformat": 4,
 "nbformat_minor": 4
}
