{
 "cells": [
  {
   "cell_type": "code",
   "execution_count": 7,
   "metadata": {},
   "outputs": [
    {
     "name": "stdout",
     "output_type": "stream",
     "text": [
      "Enter number:\t100\n",
      "0,35,70\n"
     ]
    }
   ],
   "source": [
    "#Question 1:\n",
    "#Please write a program using generator to print the numbers which can be divisible by 5 and 7 \n",
    "#between 0 and n in comma separated form while n is input by console.\n",
    "#Example:\n",
    "#If the following n is given as input to the program:\n",
    "#100\n",
    "#Then, the output of the program should be:\n",
    "#0,35,70\n",
    "def pr_num(x):\n",
    "    l=[]\n",
    "    for i in range(x):\n",
    "        if i %5 ==0 and i %7 ==0:\n",
    "            l.append(i)\n",
    "    print(*l,sep=\",\")\n",
    "n=int(input(\"Enter number:\\t\"))\n",
    "pr_num(n)"
   ]
  },
  {
   "cell_type": "code",
   "execution_count": 10,
   "metadata": {},
   "outputs": [
    {
     "name": "stdout",
     "output_type": "stream",
     "text": [
      "Enter number:\t10\n",
      "0,2,4,6,8,10\n"
     ]
    }
   ],
   "source": [
    "#Question 2:\n",
    "#Please write a program using generator to print the even numbers between 0 and n in comma \n",
    "#separated form while n is input by console.\n",
    "#Example:\n",
    "#If the following n is given as input to the program:\n",
    "#10\n",
    "#Then, the output of the program should be:\n",
    "#0,2,4,6,8,10\n",
    "def even_num(x):\n",
    "    l=[]\n",
    "    for i in range(x+1):\n",
    "        if i %2==0:\n",
    "            l.append(i)\n",
    "    print(*l,sep=\",\")\n",
    "n = int(input(\"Enter number:\\t\"))\n",
    "even_num(n)"
   ]
  },
  {
   "cell_type": "code",
   "execution_count": 15,
   "metadata": {},
   "outputs": [
    {
     "name": "stdout",
     "output_type": "stream",
     "text": [
      "Enter number:\t10\n",
      "0,1,1,2,3,5,8,13,21,34\n"
     ]
    }
   ],
   "source": [
    "#Question 3:\n",
    "#The Fibonacci Sequence is computed based on the following formula:\n",
    "#f(n)=0 if n=0\n",
    "#f(n)=1 if n=1\n",
    "#f(n)=f(n-1)+f(n-2) if n>1\n",
    "#Please write a program using list comprehension to print the Fibonacci Sequence in comma separated form with a given n input by console.\n",
    "#Example:\n",
    "#If the following n is given as input to the program:\n",
    "#7\n",
    "#Then, the output of the program should be:\n",
    "#0,1,1,2,3,5,8,13\n",
    "def fibo_seq(x):\n",
    "    if x==0:\n",
    "        return 0\n",
    "    elif x==1:\n",
    "        return 1\n",
    "    elif x>1:\n",
    "        return (fibo_seq(x-1)+fibo_seq(x-2))\n",
    "\n",
    "n=int(input(\"Enter number:\\t\"))\n",
    "l=[]\n",
    "for i in range(n):\n",
    "    l.append(fibo_seq(i))\n",
    "print(*l,sep=\",\")"
   ]
  },
  {
   "cell_type": "code",
   "execution_count": 21,
   "metadata": {},
   "outputs": [
    {
     "name": "stdout",
     "output_type": "stream",
     "text": [
      "Enter email:\tjohn@google.com\n",
      "john\n"
     ]
    }
   ],
   "source": [
    "#Question 4:\n",
    "#Assuming that we have some email addresses in the \"username@companyname.com\" format, please write\n",
    "#program to print the user name of a given email address. Both user names and company names are\n",
    "#composed of letters only.\n",
    "#Example:\n",
    "#If the following email address is given as input to the program:\n",
    "#john@google.com\n",
    "#Then, the output of the program should be:\n",
    "#john\n",
    "def extract_nm(x):\n",
    "    l=\"\"\n",
    "    for i in x:\n",
    "        if i=='@':\n",
    "            break\n",
    "        l=l+i\n",
    "    return l\n",
    "email=input(\"Enter email:\\t\")\n",
    "name=extract_nm(email)\n",
    "print(name)"
   ]
  },
  {
   "cell_type": "code",
   "execution_count": 23,
   "metadata": {},
   "outputs": [
    {
     "name": "stdout",
     "output_type": "stream",
     "text": [
      "The area of square is\t 16\n"
     ]
    }
   ],
   "source": [
    "#Question 5:\n",
    "#Define a class named Shape and its subclass Square. The Square class has an init function which \n",
    "#takes a length as argument. Both classes have a area function which can print the area of the \n",
    "#shape where Shape's area is 0 by default.\n",
    "class Shape:\n",
    "    def __init__(self,len):\n",
    "        self.len=len\n",
    "    def area(self):\n",
    "        return 0\n",
    "class Square(Shape):\n",
    "    def area(self):\n",
    "        return self.len*self.len\n",
    "\n",
    "s=Square(4)\n",
    "print(\"The area of square is\\t\",s.area())"
   ]
  },
  {
   "cell_type": "code",
   "execution_count": null,
   "metadata": {},
   "outputs": [],
   "source": []
  }
 ],
 "metadata": {
  "kernelspec": {
   "display_name": "Python 3",
   "language": "python",
   "name": "python3"
  },
  "language_info": {
   "codemirror_mode": {
    "name": "ipython",
    "version": 3
   },
   "file_extension": ".py",
   "mimetype": "text/x-python",
   "name": "python",
   "nbconvert_exporter": "python",
   "pygments_lexer": "ipython3",
   "version": "3.8.3"
  }
 },
 "nbformat": 4,
 "nbformat_minor": 4
}
