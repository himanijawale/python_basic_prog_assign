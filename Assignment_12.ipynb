{
 "cells": [
  {
   "cell_type": "code",
   "execution_count": 7,
   "metadata": {},
   "outputs": [
    {
     "data": {
      "text/plain": [
       "[1, 2, 3, 4, 6, 7, 8, 9]"
      ]
     },
     "execution_count": 7,
     "metadata": {},
     "output_type": "execute_result"
    }
   ],
   "source": [
    "#Write a Python program to Extract Unique values dictionary values?\n",
    "t={'g':[2,3,4,6,7,8,9],'a':[1,2,3,4]}\n",
    "list({ele for val in t.values() for ele in val})"
   ]
  },
  {
   "cell_type": "code",
   "execution_count": 12,
   "metadata": {},
   "outputs": [
    {
     "name": "stdout",
     "output_type": "stream",
     "text": [
      "The sum of values in dictionary:\t 237\n"
     ]
    }
   ],
   "source": [
    "#Write a Python program to find the sum of all items in a dictionary?\n",
    "d = {'a':10,'b':20,'c':200,'d':3,'e':4}\n",
    "sum=0\n",
    "for i in d.values():\n",
    "    sum+=i\n",
    "print(\"The sum of values in dictionary:\\t\",sum)"
   ]
  },
  {
   "cell_type": "code",
   "execution_count": 23,
   "metadata": {},
   "outputs": [
    {
     "name": "stdout",
     "output_type": "stream",
     "text": [
      "{'a': 2, 'b': 2, 'c': 3}\n"
     ]
    }
   ],
   "source": [
    "#Write a Python program to Merging two Dictionaries?\n",
    "d1={'a':1,'b':2}\n",
    "d2={'a':2,'c':3}\n",
    "print({**d1,**d2})"
   ]
  },
  {
   "cell_type": "code",
   "execution_count": 24,
   "metadata": {},
   "outputs": [
    {
     "data": {
      "text/plain": [
       "{1: 'Mon', 2: 'Tue', 3: 'Wed', 4: 'Thu', 5: 'Fri', 6: 'Sat', 7: 'Sun'}"
      ]
     },
     "execution_count": 24,
     "metadata": {},
     "output_type": "execute_result"
    }
   ],
   "source": [
    "#Write a Python program to convert key-values list to flat dictionary?\n",
    "dic={'Days':[1,2,3,4,5,6,7],\n",
    "    'nameofdays':['Mon','Tue','Wed','Thu','Fri','Sat','Sun']}\n",
    "res=dict(zip(dic['Days'],dic['nameofdays']))\n",
    "res"
   ]
  },
  {
   "cell_type": "code",
   "execution_count": 3,
   "metadata": {},
   "outputs": [
    {
     "data": {
      "text/plain": [
       "OrderedDict([('c', 7), ('b', 4), ('a', 2), ('d', 6)])"
      ]
     },
     "execution_count": 3,
     "metadata": {},
     "output_type": "execute_result"
    }
   ],
   "source": [
    "#Write a Python program to insertion at the beginning in OrderedDict?\n",
    "from collections import OrderedDict\n",
    "od=OrderedDict()\n",
    "od['b']=4\n",
    "od['a']=5\n",
    "od['d']=6\n",
    "od['a']=2\n",
    "od.update({'c':7})\n",
    "od.move_to_end('c',last=False)\n",
    "od"
   ]
  },
  {
   "cell_type": "code",
   "execution_count": 19,
   "metadata": {},
   "outputs": [
    {
     "name": "stdout",
     "output_type": "stream",
     "text": [
      "true\n"
     ]
    }
   ],
   "source": [
    "#Write a Python program to check order of character in string using OrderedDict()?\n",
    "from collections import OrderedDict \n",
    "  \n",
    "def checkOrder(input, pattern): \n",
    "      \n",
    "    dict = OrderedDict.fromkeys(input) \n",
    "   \n",
    "    len1 = 0\n",
    "    for key,value in dict.items(): \n",
    "        if (key == pattern[len1]):\n",
    "            len1 = len1 + 1\n",
    "          \n",
    "        if (len1 == (len(pattern))): \n",
    "            return 'true'\n",
    "    \n",
    "    return 'false'\n",
    "input1 = 'college students'\n",
    "pattern = 'cls'\n",
    "print (checkOrder(input1,pattern)) \n"
   ]
  },
  {
   "cell_type": "code",
   "execution_count": 6,
   "metadata": {},
   "outputs": [
    {
     "name": "stdout",
     "output_type": "stream",
     "text": [
      "Enter length:\t3\n",
      "Enter numbers in dictionary:\n",
      "43\n",
      "23\n",
      "1\n",
      "[(2, 1), (1, 23), (0, 43)]\n"
     ]
    }
   ],
   "source": [
    "#Write a Python program to sort Python Dictionaries by Key or Value?\n",
    "len2=int(input(\"Enter length:\\t\"))\n",
    "dict1={}\n",
    "print(\"Enter numbers in dictionary:\")\n",
    "for i in range(len2):\n",
    "    dict1[i]=int(input())\n",
    "print(sorted(dict1.items(),key= lambda i:(i[1],i[0])))"
   ]
  },
  {
   "cell_type": "code",
   "execution_count": null,
   "metadata": {},
   "outputs": [],
   "source": []
  }
 ],
 "metadata": {
  "kernelspec": {
   "display_name": "Python 3",
   "language": "python",
   "name": "python3"
  },
  "language_info": {
   "codemirror_mode": {
    "name": "ipython",
    "version": 3
   },
   "file_extension": ".py",
   "mimetype": "text/x-python",
   "name": "python",
   "nbconvert_exporter": "python",
   "pygments_lexer": "ipython3",
   "version": "3.8.3"
  }
 },
 "nbformat": 4,
 "nbformat_minor": 4
}
