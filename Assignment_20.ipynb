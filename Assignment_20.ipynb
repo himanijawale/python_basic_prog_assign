{
 "cells": [
  {
   "cell_type": "code",
   "execution_count": 5,
   "metadata": {},
   "outputs": [
    {
     "name": "stdout",
     "output_type": "stream",
     "text": [
      "[0, 1729]\n"
     ]
    }
   ],
   "source": [
    "#Question1\n",
    "#Create a function that takes a list of strings and integers, and filters out the list so that it \n",
    "#returns a list of integers only.\n",
    "#Examples\n",
    "#filter_list([1, 2, 3, \"a\", \"b\", 4]) ➞ [1, 2, 3, 4]\n",
    "\n",
    "#filter_list([\"A\", 0, \"Edabit\", 1729, \"Python\", \"1729\"]) ➞ [0, 1729]\n",
    "\n",
    "#filter_list([\"Nothing\", \"here\"]) ➞ []\n",
    "\n",
    "def filter_list(l):\n",
    "    r=[]\n",
    "    for i in range(len(l)):\n",
    "        if type(l[i])==str:\n",
    "            r.append(i)\n",
    "    for i in r[::-1]:\n",
    "        del l[i]\n",
    "    return l\n",
    "\n",
    "list1=[\"A\", 0, \"Edabit\", 1729, \"Python\", \"1729\"]\n",
    "print(filter_list(list1))"
   ]
  },
  {
   "cell_type": "code",
   "execution_count": 7,
   "metadata": {},
   "outputs": [
    {
     "name": "stdout",
     "output_type": "stream",
     "text": [
      "[1, 3, 5, 7, 9]\n"
     ]
    }
   ],
   "source": [
    "#Question2\n",
    "#Given a list of numbers, create a function which returns the list but with each element's index \n",
    "#in the list added to itself. This means you add 0 to the number at index 0, add 1 to the number \n",
    "#at index 1, etc...\n",
    "#Examples\n",
    "#add_indexes([0, 0, 0, 0, 0]) ➞ [0, 1, 2, 3, 4]\n",
    "\n",
    "#add_indexes([1, 2, 3, 4, 5]) ➞ [1, 3, 5, 7, 9]\n",
    "\n",
    "#add_indexes([5, 4, 3, 2, 1]) ➞ [5, 5, 5, 5, 5]\n",
    "\n",
    "def add_indexes(l):\n",
    "    for i in range(len(l)):\n",
    "        l[i]+=i\n",
    "    return l\n",
    "\n",
    "print(add_indexes([1, 2, 3, 4, 5]))"
   ]
  },
  {
   "cell_type": "code",
   "execution_count": 8,
   "metadata": {},
   "outputs": [
    {
     "name": "stdout",
     "output_type": "stream",
     "text": [
      "Enter height:\t15\n",
      "Enter radius:\t6\n",
      "565.49\n"
     ]
    }
   ],
   "source": [
    "#Question3\n",
    "#Create a function that takes the height and radius of a cone as arguments and returns the volume \n",
    "#of the cone rounded to the nearest hundredth. See the resources tab for the formula.\n",
    "\n",
    "#Examples\n",
    "#cone_volume(3, 2) ➞ 12.57\n",
    "\n",
    "#cone_volume(15, 6) ➞ 565.49\n",
    "\n",
    "#cone_volume(18, 0) ➞ 0\n",
    "\n",
    "#pi*r**2*h/3\n",
    "\n",
    "from math import pi\n",
    "def cone_volume(h,r):\n",
    "    return pi*r**2*h/3\n",
    "\n",
    "height=float(input(\"Enter height:\\t\"))\n",
    "radius=float(input(\"Enter radius:\\t\"))\n",
    "\n",
    "print(round(cone_volume(height,radius),2))"
   ]
  },
  {
   "cell_type": "code",
   "execution_count": 1,
   "metadata": {},
   "outputs": [
    {
     "name": "stdout",
     "output_type": "stream",
     "text": [
      "Enter triangle number:\t215\n",
      "23220\n"
     ]
    }
   ],
   "source": [
    "#Question4\n",
    "#This Triangular Number Sequence is generated from a pattern of dots that form a triangle. The \n",
    "#first 5 numbers of the sequence, or dots, are: \n",
    "#1, 3, 6, 10, 15\n",
    "#This means that the first triangle has just one dot, the second one has three dots, the third one\n",
    "#has 6 dots and so on.\n",
    "#Write a function that gives the number of dots with its corresponding triangle number of the \n",
    "#sequence.\n",
    "#Examples\n",
    "#triangle(1) ➞ 1\n",
    "\n",
    "#triangle(6) ➞ 21\n",
    "\n",
    "#triangle(215) ➞ 23220\n",
    "\n",
    "def triangle(n):\n",
    "    return n*(n+1)//2\n",
    "\n",
    "num=int(input(\"Enter triangle number:\\t\"))\n",
    "print(triangle(num))"
   ]
  },
  {
   "cell_type": "code",
   "execution_count": 20,
   "metadata": {},
   "outputs": [
    {
     "name": "stdout",
     "output_type": "stream",
     "text": [
      "Enter list:\t1,2,3,4,6,7,8,9,10\n",
      "5\n"
     ]
    }
   ],
   "source": [
    "#Question5\n",
    "#Create a function that takes a list of numbers between 1 and 10 (excluding one number) and \n",
    "#returns the missing number.\n",
    "#Examples\n",
    "#missing_num([1, 2, 3, 4, 6, 7, 8, 9, 10]) ➞ 5\n",
    "\n",
    "#missing_num([7, 2, 3, 6, 5, 9, 1, 4, 8]) ➞ 10\n",
    "\n",
    "#missing_num([10, 5, 1, 2, 4, 6, 8, 3, 9]) ➞ 7\n",
    "\n",
    "def missing_num(l):\n",
    "    l=sorted(l)\n",
    "    r=0\n",
    "    for i,j in zip(range(1,11),l):\n",
    "        if i!=j:\n",
    "            r = i\n",
    "            break\n",
    "        else:\n",
    "            pass\n",
    "    return r\n",
    "lst=list(input(\"Enter list:\\t\").split(\",\"))\n",
    "for i in range(len(lst)):\n",
    "    lst[i]=int(lst[i])\n",
    "if len(lst)==9:\n",
    "    print(missing_num(lst))\n",
    "else:\n",
    "    print(\"Enter numbers between 1 to 10 and exclude 1 number\")"
   ]
  },
  {
   "cell_type": "code",
   "execution_count": null,
   "metadata": {},
   "outputs": [],
   "source": []
  }
 ],
 "metadata": {
  "kernelspec": {
   "display_name": "Python 3",
   "language": "python",
   "name": "python3"
  },
  "language_info": {
   "codemirror_mode": {
    "name": "ipython",
    "version": 3
   },
   "file_extension": ".py",
   "mimetype": "text/x-python",
   "name": "python",
   "nbconvert_exporter": "python",
   "pygments_lexer": "ipython3",
   "version": "3.8.3"
  }
 },
 "nbformat": 4,
 "nbformat_minor": 4
}
