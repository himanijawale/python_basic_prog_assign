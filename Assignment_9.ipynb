{
 "cells": [
  {
   "cell_type": "code",
   "execution_count": 22,
   "metadata": {},
   "outputs": [
    {
     "name": "stdout",
     "output_type": "stream",
     "text": [
      "Enter number:\t175\n",
      "175 is a disarium number\n"
     ]
    }
   ],
   "source": [
    "#Write a Python program to check if the given number is a Disarium Number?\n",
    "num = input(\"Enter number:\\t\")\n",
    "sum1=0\n",
    "len1=len(num)\n",
    "num1=int(num)\n",
    "while num1>0:\n",
    "    i=num1%10\n",
    "    sum1+=(i**len1)\n",
    "    len1-=1\n",
    "    num1=num1//10\n",
    "if sum1 == int(num):\n",
    "    print(num,\"is a disarium number\")\n",
    "else:\n",
    "    print(num,sum1,\"is not a disarium number\")"
   ]
  },
  {
   "cell_type": "code",
   "execution_count": 28,
   "metadata": {},
   "outputs": [
    {
     "name": "stdout",
     "output_type": "stream",
     "text": [
      "All disarium numbers between 1 to 100:\n",
      "1\n",
      "2\n",
      "3\n",
      "4\n",
      "5\n",
      "6\n",
      "7\n",
      "8\n",
      "9\n",
      "89\n"
     ]
    }
   ],
   "source": [
    "#Write a Python program to print all disarium numbers between 1 to 100?\n",
    "def cal_len(x):\n",
    "    len=0\n",
    "    while x>0:\n",
    "        len+=1\n",
    "        x=x//10\n",
    "    return len\n",
    "print(\"All disarium numbers between 1 to 100:\")\n",
    "for i in range(1,101):\n",
    "    len1=cal_len(i)\n",
    "    num=i\n",
    "    sum1=0\n",
    "    while num>0:\n",
    "        j=num%10\n",
    "        sum1+=(j**len1)\n",
    "        len1-=1\n",
    "        num=num//10\n",
    "    if sum1==i:\n",
    "        print(i)"
   ]
  },
  {
   "cell_type": "code",
   "execution_count": 14,
   "metadata": {},
   "outputs": [
    {
     "name": "stdout",
     "output_type": "stream",
     "text": [
      "Enter number:\t45\n",
      "45  is not a Happy number\n"
     ]
    }
   ],
   "source": [
    "#Write a Python program to check if the given number is Happy Number?\n",
    "def sum_sq(n):\n",
    "    sum1=0\n",
    "    while(n):\n",
    "        sum1+=(n%10)**2\n",
    "        n=n//10\n",
    "    return sum1\n",
    "num = int(input(\"Enter number:\\t\"))\n",
    "prev=num\n",
    "next1=0\n",
    "while(True):\n",
    "    prev=sum_sq(prev)\n",
    "    next1=sum_sq(prev)\n",
    "    if prev==next1 or prev<9:\n",
    "        break\n",
    "if prev==1:\n",
    "    print(num,\" is a Happy number\")\n",
    "else:\n",
    "    print(num, \" is not a Happy number\")"
   ]
  },
  {
   "cell_type": "code",
   "execution_count": 16,
   "metadata": {},
   "outputs": [
    {
     "name": "stdout",
     "output_type": "stream",
     "text": [
      "All happy numbers:\n",
      "1\n",
      "7\n",
      "10\n",
      "13\n",
      "19\n",
      "23\n",
      "28\n",
      "31\n",
      "32\n",
      "44\n",
      "49\n",
      "68\n",
      "70\n",
      "79\n",
      "82\n",
      "86\n",
      "91\n",
      "94\n",
      "97\n",
      "100\n"
     ]
    }
   ],
   "source": [
    "#Write a Python program to print all happy numbers between 1 and 100?\n",
    "def sum_sq(n):\n",
    "    sum1=0\n",
    "    while(n):\n",
    "        sum1+=(n%10)**2\n",
    "        n=n//10\n",
    "    return sum1\n",
    "print(\"All happy numbers:\")\n",
    "for i in range(101):\n",
    "    prev=i\n",
    "    next1=0\n",
    "    while(True):\n",
    "        prev=sum_sq(prev)\n",
    "        next1=sum_sq(prev)\n",
    "        if prev==next1 or prev<9:\n",
    "            break\n",
    "    if prev==1:\n",
    "        print(i)"
   ]
  },
  {
   "cell_type": "code",
   "execution_count": 21,
   "metadata": {},
   "outputs": [
    {
     "name": "stdout",
     "output_type": "stream",
     "text": [
      "Enter number:\t408\n",
      "408  is a harshad number\n"
     ]
    }
   ],
   "source": [
    "#Write a Python program to determine whether the given number is a Harshad Number?\n",
    "def sum_dig(n):\n",
    "    sum1=0\n",
    "    while n>0:\n",
    "        sum1+=(n%10)\n",
    "        n=n//10\n",
    "    return sum1\n",
    "num=int(input(\"Enter number:\\t\"))\n",
    "if type(num//sum_dig(num))==int:\n",
    "    print(num,\" is a harshad number\")\n",
    "else:\n",
    "    print(num,\" is not a harshad number\")"
   ]
  },
  {
   "cell_type": "code",
   "execution_count": 22,
   "metadata": {},
   "outputs": [
    {
     "name": "stdout",
     "output_type": "stream",
     "text": [
      "All pronic numbers between 1 to 100:\n",
      "0\n",
      "2\n",
      "6\n",
      "12\n",
      "20\n",
      "30\n",
      "42\n",
      "56\n",
      "72\n",
      "90\n"
     ]
    }
   ],
   "source": [
    "#Write a Python program to print all pronic numbers between 1 and 100?\n",
    "import math\n",
    "print(\"All pronic numbers between 1 to 100:\")\n",
    "for i in range(101):\n",
    "    j=0\n",
    "    while(j<=(int)(math.sqrt(i))):\n",
    "        if(i==j*(j+1)):\n",
    "            print(i)\n",
    "        j+=1\n",
    "            "
   ]
  },
  {
   "cell_type": "code",
   "execution_count": null,
   "metadata": {},
   "outputs": [],
   "source": []
  }
 ],
 "metadata": {
  "kernelspec": {
   "display_name": "Python 3",
   "language": "python",
   "name": "python3"
  },
  "language_info": {
   "codemirror_mode": {
    "name": "ipython",
    "version": 3
   },
   "file_extension": ".py",
   "mimetype": "text/x-python",
   "name": "python",
   "nbconvert_exporter": "python",
   "pygments_lexer": "ipython3",
   "version": "3.8.3"
  }
 },
 "nbformat": 4,
 "nbformat_minor": 4
}
