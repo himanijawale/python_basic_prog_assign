{
 "cells": [
  {
   "cell_type": "code",
   "execution_count": 3,
   "metadata": {},
   "outputs": [
    {
     "name": "stdout",
     "output_type": "stream",
     "text": [
      "Enter sentence:hello college ball call hole\n",
      "Enter length:4\n",
      "hello\n",
      "college\n"
     ]
    }
   ],
   "source": [
    "#Write a Python program to find words which are greater than given length k?\n",
    "sent=input(\"Enter sentence:\")\n",
    "k=int(input(\"Enter length:\"))\n",
    "for i in sent.split():\n",
    "    if len(i)>k:\n",
    "        print(i)"
   ]
  },
  {
   "cell_type": "code",
   "execution_count": 21,
   "metadata": {},
   "outputs": [
    {
     "name": "stdout",
     "output_type": "stream",
     "text": [
      "Enter string:\thimani\n",
      "Enter position:4\n",
      "The string after removing char in string:\t himni\n"
     ]
    }
   ],
   "source": [
    "#Write a Python program for removing i-th character from a string?\n",
    "st = input(\"Enter string:\\t\")\n",
    "i=int(input(\"Enter position:\"))\n",
    "k=-1\n",
    "res=\"\"\n",
    "for j in st:\n",
    "    k+=1\n",
    "    if k==i-1:\n",
    "        continue\n",
    "    res+=j\n",
    "    \n",
    "print(\"The string after removing char in string:\\t\",res)"
   ]
  },
  {
   "cell_type": "code",
   "execution_count": 25,
   "metadata": {},
   "outputs": [
    {
     "name": "stdout",
     "output_type": "stream",
     "text": [
      "Enter sentence:\tprogramming practice is good\n",
      "The splitted string is:\n",
      "programming\n",
      "practice\n",
      "is\n",
      "good\n",
      "The joint string is:\t programming_practice_is_good\n"
     ]
    }
   ],
   "source": [
    "#Write a Python program to split and join a string?\n",
    "sent= input(\"Enter sentence:\\t\")\n",
    "s = sent.split()\n",
    "print(\"The splitted string is:\")\n",
    "for i in s:\n",
    "    print(i)\n",
    "j=\"_\".join(s)\n",
    "print(\"The joint string is:\\t\",j)"
   ]
  },
  {
   "cell_type": "code",
   "execution_count": 28,
   "metadata": {},
   "outputs": [
    {
     "name": "stdout",
     "output_type": "stream",
     "text": [
      "Enter binary string:\t011010101011110\n",
      "String is a binary string.\n"
     ]
    }
   ],
   "source": [
    "#Write a Python to check if a given string is binary string or not?\n",
    "st = input(\"Enter binary string:\\t\")\n",
    "bin_set={'0','1'}\n",
    "test=set(st)\n",
    "if test==bin_set or test=={'0'} or test=={'1'}:\n",
    "    print(\"String is a binary string.\")\n",
    "else:\n",
    "    print(\"String is not a binary string.\")\n"
   ]
  },
  {
   "cell_type": "code",
   "execution_count": 34,
   "metadata": {},
   "outputs": [
    {
     "name": "stdout",
     "output_type": "stream",
     "text": [
      "file\n",
      "hall\n"
     ]
    }
   ],
   "source": [
    "#Write a Python program to find uncommon words from two Strings?\n",
    "count={}\n",
    "a=\"this is file\"\n",
    "b=\"this is hall\"\n",
    "for word in a.split():\n",
    "    count[word]=count.get(word,0)+1\n",
    "for word in b.split():\n",
    "    count[word]=count.get(word,0)+1\n",
    "for word in count:\n",
    "    if count[word]==1:\n",
    "        print(word)"
   ]
  },
  {
   "cell_type": "code",
   "execution_count": 43,
   "metadata": {},
   "outputs": [
    {
     "name": "stdout",
     "output_type": "stream",
     "text": [
      "Enter string:\thall hello wall mall\n",
      "h\n",
      "a\n",
      "l\n"
     ]
    }
   ],
   "source": [
    "#Write a Python to find all duplicate characters in string?\n",
    "st=input(\"Enter string:\\t\")\n",
    "count={}\n",
    "for i in st:\n",
    "    if i!=\" \":\n",
    "        count[i]=count.get(i,0)+1\n",
    "for c in count:\n",
    "    if count[c]>1:\n",
    "        print(c)"
   ]
  },
  {
   "cell_type": "code",
   "execution_count": 48,
   "metadata": {},
   "outputs": [
    {
     "name": "stdout",
     "output_type": "stream",
     "text": [
      "Enter sentence:\tHello!\n",
      "String contains a special character\n"
     ]
    }
   ],
   "source": [
    "#Write a Python Program to check if a string contains any special character?\n",
    "from string import punctuation\n",
    "st=input(\"Enter sentence:\\t\")\n",
    "for i in st:\n",
    "    if i in punctuation:\n",
    "        print(\"String contains a special character\")\n",
    "        break\n",
    "else:\n",
    "    print(\"String does not contain special character\")"
   ]
  },
  {
   "cell_type": "code",
   "execution_count": null,
   "metadata": {},
   "outputs": [],
   "source": []
  }
 ],
 "metadata": {
  "kernelspec": {
   "display_name": "Python 3",
   "language": "python",
   "name": "python3"
  },
  "language_info": {
   "codemirror_mode": {
    "name": "ipython",
    "version": 3
   },
   "file_extension": ".py",
   "mimetype": "text/x-python",
   "name": "python",
   "nbconvert_exporter": "python",
   "pygments_lexer": "ipython3",
   "version": "3.8.3"
  }
 },
 "nbformat": 4,
 "nbformat_minor": 4
}
