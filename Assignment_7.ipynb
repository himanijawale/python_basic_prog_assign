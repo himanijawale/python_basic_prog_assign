{
 "cells": [
  {
   "cell_type": "code",
   "execution_count": 4,
   "metadata": {},
   "outputs": [
    {
     "name": "stdout",
     "output_type": "stream",
     "text": [
      "Enter number:\t1\n",
      "Enter number(0 to exit):\t2\n",
      "Enter number(0 to exit):\t3\n",
      "Enter number(0 to exit):\t2\n",
      "Enter number(0 to exit):\t3\n",
      "Enter number(0 to exit):\t0\n",
      "The sum of elements in array is: 11\n"
     ]
    }
   ],
   "source": [
    "#Write a Python Program to find sum of array?\n",
    "num=int(input(\"Enter number:\\t\"))\n",
    "a=[]\n",
    "while num:\n",
    "    a.append(num)\n",
    "    num=int(input(\"Enter number(0 to exit):\\t\"))\n",
    "sum=0\n",
    "for i in a:\n",
    "    sum+=i\n",
    "print(\"The sum of elements in array is:\",sum)"
   ]
  },
  {
   "cell_type": "code",
   "execution_count": 11,
   "metadata": {},
   "outputs": [
    {
     "name": "stdout",
     "output_type": "stream",
     "text": [
      "Enter number('e' to exit):\t-3\n",
      "Enter number('e' to exit):\t-4\n",
      "Enter number('e' to exit):\t0\n",
      "Enter number('e' to exit):\te\n",
      "Largest number in array is:\t 0\n"
     ]
    }
   ],
   "source": [
    "#Write a Python Program to find largest element in an array?\n",
    "num=input(\"Enter number('e' to exit):\\t\")\n",
    "a=[]\n",
    "while num!='e':\n",
    "    a.append(int(num))\n",
    "    num=input(\"Enter number('e' to exit):\\t\")\n",
    "l=a[0]\n",
    "for i in a:\n",
    "    if l<i:\n",
    "        l=i\n",
    "print(\"Largest number in array is:\\t\",l)\n"
   ]
  },
  {
   "cell_type": "code",
   "execution_count": 14,
   "metadata": {},
   "outputs": [
    {
     "name": "stdout",
     "output_type": "stream",
     "text": [
      "Enter number('e' to exit):\t1\n",
      "Enter number('e' to exit):\t2\n",
      "Enter number('e' to exit):\t3\n",
      "Enter number('e' to exit):\t2\n",
      "Enter number('e' to exit):\t3\n",
      "Enter number('e' to exit):\t4\n",
      "Enter number('e' to exit):\t5\n",
      "Enter number('e' to exit):\t63\n",
      "Enter number('e' to exit):\te\n",
      "Enter number for rotation:\t19\n",
      "The array before rotation:\t [1, 2, 3, 2, 3, 4, 5, 63]\n",
      "The array is:\t [2, 3, 4, 5, 63, 1, 2, 3]\n"
     ]
    }
   ],
   "source": [
    "# Write a Python Program for array rotation?\n",
    "num=input(\"Enter number('e' to exit):\\t\")\n",
    "a=[]\n",
    "while num!='e':\n",
    "    a.append(int(num))\n",
    "    num=input(\"Enter number('e' to exit):\\t\")\n",
    "\n",
    "num=int(input(\"Enter number for rotation:\\t\"))\n",
    "num= num%len(a)\n",
    "print(\"The array before rotation:\\t\",a)\n",
    "if num!=0:\n",
    "    b=[]\n",
    "    for i in range(num):\n",
    "        b.append(a[i])\n",
    "    for i in b:\n",
    "        a.remove(i)\n",
    "        a.append(i)\n",
    "print(\"The array is:\\t\",a)"
   ]
  },
  {
   "cell_type": "code",
   "execution_count": 19,
   "metadata": {},
   "outputs": [
    {
     "name": "stdout",
     "output_type": "stream",
     "text": [
      "Enter number('e' to exit):\t33\n",
      "Enter number('e' to exit):\t34\n",
      "Enter number('e' to exit):\t23\n",
      "Enter number('e' to exit):\t32\n",
      "Enter number('e' to exit):\t44\n",
      "Enter number('e' to exit):\t33\n",
      "Enter number('e' to exit):\t22\n",
      "Enter number('e' to exit):\t31\n",
      "Enter number('e' to exit):\t36\n",
      "Enter number('e' to exit):\te\n",
      "Enter number for split:\t4\n",
      "The array before split:\t [33, 34, 23, 32, 44, 33, 22, 31, 36]\n",
      "The array is:\t [44, 33, 22, 31, 36, 33, 34, 23, 32]\n"
     ]
    }
   ],
   "source": [
    "#Write a Python Program to Split the array and add the first part to the end?\n",
    "num=input(\"Enter number('e' to exit):\\t\")\n",
    "a=[]\n",
    "while num!='e':\n",
    "    a.append(int(num))\n",
    "    num=input(\"Enter number('e' to exit):\\t\")\n",
    "\n",
    "num=int(input(\"Enter number for split:\\t\"))\n",
    "num= num%len(a)\n",
    "print(\"The array before split:\\t\",a)\n",
    "if num!=0:\n",
    "    b=[]\n",
    "    for i in range(num):\n",
    "        b.append(a[i])\n",
    "    for i in b:\n",
    "        a.remove(i)\n",
    "        a.append(i)\n",
    "print(\"The array is:\\t\",a)\n"
   ]
  },
  {
   "cell_type": "code",
   "execution_count": 27,
   "metadata": {},
   "outputs": [
    {
     "name": "stdout",
     "output_type": "stream",
     "text": [
      "Enter number('e' to exit):\t45\n",
      "Enter number('e' to exit):\t43\n",
      "Enter number('e' to exit):\t12\n",
      "Enter number('e' to exit):\t1\n",
      "Enter number('e' to exit):\te\n",
      "The array [45, 43, 12, 1] is monotonic array\n"
     ]
    }
   ],
   "source": [
    "#Write a Python Program to check if given array is Monotonic?\n",
    "num=input(\"Enter number('e' to exit):\\t\")\n",
    "a=[]\n",
    "while num!='e':\n",
    "    a.append(int(num))\n",
    "    num=input(\"Enter number('e' to exit):\\t\")\n",
    "l=0\n",
    "for i in range(len(a)-1):\n",
    "    if a[i]<=a[i+1]:\n",
    "        l=1\n",
    "    else:\n",
    "        l=0\n",
    "        break\n",
    "if l==0:\n",
    "    for i in range(len(a)-1):\n",
    "        if a[i]>=a[i+1]:\n",
    "            l=1\n",
    "        else:\n",
    "            l=0\n",
    "            break\n",
    "if l==1:\n",
    "    print(\"The array {} is monotonic array\".format(a))\n",
    "else:\n",
    "    print(\"The array {} is not monotonic array\".format(a))\n",
    "    \n"
   ]
  },
  {
   "cell_type": "code",
   "execution_count": null,
   "metadata": {},
   "outputs": [],
   "source": []
  }
 ],
 "metadata": {
  "kernelspec": {
   "display_name": "Python 3",
   "language": "python",
   "name": "python3"
  },
  "language_info": {
   "codemirror_mode": {
    "name": "ipython",
    "version": 3
   },
   "file_extension": ".py",
   "mimetype": "text/x-python",
   "name": "python",
   "nbconvert_exporter": "python",
   "pygments_lexer": "ipython3",
   "version": "3.8.3"
  }
 },
 "nbformat": 4,
 "nbformat_minor": 4
}
