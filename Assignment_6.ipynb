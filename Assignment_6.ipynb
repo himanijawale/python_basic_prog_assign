{
 "cells": [
  {
   "cell_type": "code",
   "execution_count": 6,
   "metadata": {},
   "outputs": [
    {
     "name": "stdout",
     "output_type": "stream",
     "text": [
      "Enter numbers of fibonacci sequence:\t11\n",
      "Fibonacci sequence:\n",
      "0\n",
      "1\n",
      "1\n",
      "2\n",
      "3\n",
      "5\n",
      "8\n",
      "13\n",
      "21\n",
      "34\n",
      "55\n"
     ]
    }
   ],
   "source": [
    "#Write a Python Program to Display Fibonacci Sequence Using Recursion?\n",
    "def recur_fibo(n):\n",
    "    if n <= 1:\n",
    "        return n\n",
    "    else:\n",
    "        return(recur_fibo(n-1) + recur_fibo(n-2))\n",
    "\n",
    "nterms = int(input(\"Enter numbers of fibonacci sequence:\\t\"))\n",
    "\n",
    "# check if the number of terms is valid\n",
    "if nterms <= 0:\n",
    "    print(\"Plese enter a positive integer\")\n",
    "else:\n",
    "    print(\"Fibonacci sequence:\")\n",
    "    for i in range(nterms):\n",
    "        print(recur_fibo(i))"
   ]
  },
  {
   "cell_type": "code",
   "execution_count": 7,
   "metadata": {},
   "outputs": [
    {
     "name": "stdout",
     "output_type": "stream",
     "text": [
      "Enter number:\t5\n",
      "Factorial of 5 is 120\n"
     ]
    }
   ],
   "source": [
    "#Write a Python Program to Find Factorial of Number Using Recursion?\n",
    "def fact(x):\n",
    "    if x==1:\n",
    "        return x\n",
    "    else:\n",
    "        return x*fact(x-1)\n",
    "\n",
    "num= int(input(\"Enter number:\\t\"))\n",
    "if num<0:\n",
    "    print(\"Factorial of negative number is not possible\")\n",
    "elif num==0:\n",
    "    print(\"Factorial of 0 is 1\")\n",
    "else:\n",
    "    print(\"Factorial of {} is {}\".format(num,fact(num)))"
   ]
  },
  {
   "cell_type": "code",
   "execution_count": 17,
   "metadata": {},
   "outputs": [
    {
     "name": "stdout",
     "output_type": "stream",
     "text": [
      "Enter height (feets):\t5.2\n",
      "Enter height(kgs):\t55\n",
      "Body Mass index of height 5.2 and weight 55.0 is 21.88\n"
     ]
    }
   ],
   "source": [
    "#Write a Python Program to calculate your Body Mass Index?\n",
    "h=float(input(\"Enter height (feets):\\t\"))\n",
    "w=float(input(\"Enter height(kgs):\\t\"))\n",
    "#multiply 2.20462 to convert it to pounds\n",
    "bmi = (w*4.88*2.20462)/(h**2) \n",
    "print(\"Body Mass index of height {} and weight {} is {:.2f}\".format(h,w,bmi))"
   ]
  },
  {
   "cell_type": "code",
   "execution_count": 5,
   "metadata": {},
   "outputs": [
    {
     "name": "stdout",
     "output_type": "stream",
     "text": [
      "Enter number:\t3\n",
      "The natural logarithm of 3 is 1.0986122886681098\n"
     ]
    }
   ],
   "source": [
    "#Write a Python Program to calculate the natural logarithm of any number?\n",
    "import math\n",
    "num = int(input(\"Enter number:\\t\"))\n",
    "if num>0:\n",
    "    print(\"The natural logarithm of {} is {}\".format(num,math.log(num)))"
   ]
  },
  {
   "cell_type": "code",
   "execution_count": 8,
   "metadata": {},
   "outputs": [
    {
     "name": "stdout",
     "output_type": "stream",
     "text": [
      "Enter number:\t5\n",
      "The cube sum of first 5 natural numbers is 225.0\n"
     ]
    }
   ],
   "source": [
    "#Write a Python Program for cube sum of first n natural numbers?\n",
    "num=int(input(\"Enter number:\\t\"))\n",
    "cube_sum = (num*(num+1)/2)**2\n",
    "print(\"The cube sum of first {} natural numbers is {}\".format(num,cube_sum))"
   ]
  },
  {
   "cell_type": "code",
   "execution_count": null,
   "metadata": {},
   "outputs": [],
   "source": []
  }
 ],
 "metadata": {
  "kernelspec": {
   "display_name": "Python 3",
   "language": "python",
   "name": "python3"
  },
  "language_info": {
   "codemirror_mode": {
    "name": "ipython",
    "version": 3
   },
   "file_extension": ".py",
   "mimetype": "text/x-python",
   "name": "python",
   "nbconvert_exporter": "python",
   "pygments_lexer": "ipython3",
   "version": "3.8.3"
  }
 },
 "nbformat": 4,
 "nbformat_minor": 4
}
