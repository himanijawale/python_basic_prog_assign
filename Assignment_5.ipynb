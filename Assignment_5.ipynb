{
 "cells": [
  {
   "cell_type": "code",
   "execution_count": 23,
   "metadata": {},
   "outputs": [
    {
     "name": "stdout",
     "output_type": "stream",
     "text": [
      "Enter numbers:\t4 8\n",
      "The LCM of numbers 4,8 is:\t8\n"
     ]
    }
   ],
   "source": [
    "#Write a Python Program to Find LCM?\n",
    "num1, num2 = input(\"Enter numbers:\\t\").split()\n",
    "num1=int(num1)\n",
    "num2=int(num2)\n",
    "\n",
    "def gcd(x,y):\n",
    "    for i in range(1,y+1):\n",
    "        if(x%i==0)and (y%i==0):\n",
    "            g=i\n",
    "    return g\n",
    "\n",
    "if num1 >num2:\n",
    "    g=gcd(num1,num2)\n",
    "else:\n",
    "    g=gcd(num2,num1)\n",
    "    \n",
    "if g:\n",
    "    lcm = num1*num2//g\n",
    "else:\n",
    "    lcm=num1*num2\n",
    "print(\"The LCM of numbers {},{} is:\\t{}\".format(num1,num2,lcm))\n",
    "\n",
    "    "
   ]
  },
  {
   "cell_type": "code",
   "execution_count": 29,
   "metadata": {},
   "outputs": [
    {
     "name": "stdout",
     "output_type": "stream",
     "text": [
      "Enter numbers:\t9 12\n",
      "The HCF of numbers 9,12 is:\t3\n"
     ]
    }
   ],
   "source": [
    "#Write a Python Program to Find HCF?\n",
    "num1, num2 = input(\"Enter numbers:\\t\").split()\n",
    "num1=int(num1)\n",
    "num2=int(num2)\n",
    "\n",
    "def hcf(x,y):\n",
    "    while(y):\n",
    "        x,y=y,x%y\n",
    "    return x\n",
    "\n",
    "if num1 >num2:\n",
    "    g=hcf(num1,num2)\n",
    "else:\n",
    "    g=hcf(num2,num1)\n",
    "    \n",
    "print(\"The HCF of numbers {},{} is:\\t{}\".format(num1,num2,g))   "
   ]
  },
  {
   "cell_type": "code",
   "execution_count": 49,
   "metadata": {},
   "outputs": [
    {
     "name": "stdout",
     "output_type": "stream",
     "text": [
      "Enter the number:\t10\n",
      "1010\n",
      "\n",
      "0A\n",
      "\n",
      "12"
     ]
    }
   ],
   "source": [
    "#Write a Python Program to Convert Decimal to Binary, Octal and Hexadecimal?\n",
    "def con_bin(x):\n",
    "    if x>1:\n",
    "        con_bin(x//2)\n",
    "    print(x%2,end='')\n",
    "\n",
    "def con_hex(x):\n",
    "    l=['A','B','C','D','E','F']\n",
    "    if x>1:\n",
    "        con_hex(x//16)\n",
    "    if x%16>9:\n",
    "        print(l[x%10],end='')\n",
    "    else:\n",
    "        print(x%16,end='')\n",
    "    \n",
    "\n",
    "def con_oct(x):\n",
    "    if x>1:\n",
    "        con_oct(x//8)\n",
    "    print(x%8, end='')\n",
    "\n",
    "num=int(input(\"Enter the number:\\t\"))\n",
    "\n",
    "con_bin(num)\n",
    "print(\"\\n\")\n",
    "con_hex(num)\n",
    "print(\"\\n\")\n",
    "con_oct(num)\n"
   ]
  },
  {
   "cell_type": "code",
   "execution_count": 58,
   "metadata": {},
   "outputs": [
    {
     "name": "stdout",
     "output_type": "stream",
     "text": [
      "Enter the character:\td\n",
      "The ASCII vslue of a character d is : 100\n"
     ]
    }
   ],
   "source": [
    "#Write a Python Program To Find ASCII value of a character?\n",
    "char=input(\"Enter the character:\\t\")\n",
    "print(\"The ASCII vslue of a character {} is : {}\".format(char,ord(char)))"
   ]
  },
  {
   "cell_type": "code",
   "execution_count": 3,
   "metadata": {},
   "outputs": [
    {
     "name": "stdout",
     "output_type": "stream",
     "text": [
      "Select option:\n",
      "1.Add\n",
      "2.Subtract\n",
      "3.Multiply\n",
      "4.Divide\t\n",
      "Enter choice:\t4\n",
      "Enter 1st number:\t3\n",
      "Enter 2nd number:\t0\n",
      "Division by zero is not allowed\n",
      "Enter choice:\t2\n",
      "Enter 1st number:\t33\n",
      "Enter 2nd number:\t43\n",
      "The subtraction of 33 and 43 is -10\n",
      "Enter choice:\t1\n",
      "Enter 1st number:\t4\n",
      "Enter 2nd number:\t6\n",
      "The addition of 4 and 6 is 10\n",
      "Enter choice:\t9\n"
     ]
    }
   ],
   "source": [
    "#Write a Python Program to Make a Simple Calculator with 4 basic mathematical operations?\n",
    "def addition(x,y):\n",
    "    return x+y\n",
    "def subtract(x,y):\n",
    "    return x-y\n",
    "def multiply(x,y):\n",
    "    return x*y\n",
    "def divide(x,y):\n",
    "    return x/y\n",
    "\n",
    "print(\"Select option:\\n1.Add\\n2.Subtract\\n3.Multiply\\n4.Divide\\t\")\n",
    "\n",
    "while(True):\n",
    "    c= int(input(\"Enter choice:\\t\"))\n",
    "    if c >= 1 and c<= 4:\n",
    "        num1=int(input(\"Enter 1st number:\\t\"))\n",
    "        num2=int(input(\"Enter 2nd number:\\t\"))\n",
    "        if c==1:\n",
    "            print(\"The addition of {} and {} is {}\".format(num1,num2,addition(num1,num2)))\n",
    "        elif c==2:\n",
    "            print(\"The subtraction of {} and {} is {}\".format(num1,num2,subtract(num1,num2)))\n",
    "        elif c==3:\n",
    "            print(\"The multiplication of {} and {} is {}\".format(num1,num2,multiply(num1,num2)))\n",
    "        else:\n",
    "            if num2 ==0:\n",
    "                print(\"Division by zero is not allowed\")\n",
    "            else:\n",
    "                print(\"The division of {} and {} is {}\".format(num1,num2,divide(num1,num2)))\n",
    "    else:\n",
    "        break"
   ]
  },
  {
   "cell_type": "code",
   "execution_count": null,
   "metadata": {},
   "outputs": [],
   "source": []
  }
 ],
 "metadata": {
  "kernelspec": {
   "display_name": "Python 3",
   "language": "python",
   "name": "python3"
  },
  "language_info": {
   "codemirror_mode": {
    "name": "ipython",
    "version": 3
   },
   "file_extension": ".py",
   "mimetype": "text/x-python",
   "name": "python",
   "nbconvert_exporter": "python",
   "pygments_lexer": "ipython3",
   "version": "3.8.3"
  }
 },
 "nbformat": 4,
 "nbformat_minor": 4
}
