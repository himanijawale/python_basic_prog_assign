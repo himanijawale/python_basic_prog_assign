{
 "cells": [
  {
   "cell_type": "code",
   "execution_count": 19,
   "metadata": {},
   "outputs": [
    {
     "name": "stdout",
     "output_type": "stream",
     "text": [
      "2\n",
      "0\n",
      "3\n"
     ]
    }
   ],
   "source": [
    "#Question1\n",
    "#Create a function that takes three integer arguments (a, b, c) and returns the amount of integers\n",
    "#which are of equal value.\n",
    "#Examples\n",
    "#equal(3, 4, 3) ➞ 2\n",
    "\n",
    "#equal(1, 1, 1) ➞ 3\n",
    "\n",
    "#equal(3, 4, 1) ➞ 0 \n",
    "#Notes\n",
    "#Your function must return 0, 2 or 3.\n",
    "\n",
    "def equal(x,y,z):\n",
    "    sum=0\n",
    "    if x==y:\n",
    "        sum+=2\n",
    "        if y==z:\n",
    "            sum+=1\n",
    "    elif x==z:\n",
    "        sum+=2\n",
    "        if x==y:\n",
    "            sum+=1\n",
    "    elif y==z:\n",
    "        sum+=2\n",
    "        if x==y:\n",
    "            sum+=1\n",
    "    print(sum)\n",
    "    \n",
    "equal(3, 3, 4)\n",
    "equal(3, 4, 1)\n",
    "equal(1, 1, 1)"
   ]
  },
  {
   "cell_type": "code",
   "execution_count": 21,
   "metadata": {},
   "outputs": [
    {
     "name": "stdout",
     "output_type": "stream",
     "text": [
      "[('dislikes', 3), ('followers', 10), ('likes', 2)]\n",
      "[('B', 2), ('C', 3), ('D', 1)]\n"
     ]
    }
   ],
   "source": [
    "#Question2\n",
    "#Write a function that converts a dictionary into a list of keys-values tuples.\n",
    "#Examples\n",
    "#dict_to_list({\n",
    "#  \"D\": 1,\n",
    "#  \"B\": 2,\n",
    "#  \"C\": 3\n",
    "#}) ➞ [(\"B\", 2), (\"C\", 3), (\"D\", 1)]\n",
    "\n",
    "#dict_to_list({\n",
    "#  \"likes\": 2,\n",
    "#  \"dislikes\": 3,\n",
    "#  \"followers\": 10\n",
    "#}) ➞ [(\"dislikes\", 3), (\"followers\", 10), (\"likes\", 2)]\n",
    "#Notes\n",
    "#Return the elements in the list in alphabetical order.\n",
    "\n",
    "def dict_to_list(dic):\n",
    "    l=[]\n",
    "    for i in sorted(dic.keys()):\n",
    "        l.append((i,dic[i]))\n",
    "    print(l)\n",
    "\n",
    "dict_to_list({\"likes\": 2, \"dislikes\": 3,\"followers\": 10})\n",
    "dict_to_list({\"D\": 1, \"B\": 2, \"C\": 3})"
   ]
  },
  {
   "cell_type": "code",
   "execution_count": 25,
   "metadata": {},
   "outputs": [
    {
     "name": "stdout",
     "output_type": "stream",
     "text": [
      "{'p': 'P', 's': 'S'}\n",
      "{'a': 'A', 'b': 'B', 'c': 'C'}\n",
      "{'a': 'A', 'v': 'V', 'y': 'Y', 'z': 'Z'}\n"
     ]
    }
   ],
   "source": [
    "#Question3\n",
    "#Write a function that creates a dictionary with each (key, value) pair being the (lower case, \n",
    "#                                        upper case) versions of a letter, respectively.\n",
    "#Examples\n",
    "#mapping([\"p\", \"s\"]) ➞ { \"p\": \"P\", \"s\": \"S\" }\n",
    "\n",
    "#mapping([\"a\", \"b\", \"c\"]) ➞ { \"a\": \"A\", \"b\": \"B\", \"c\": \"C\" }\n",
    "\n",
    "#mapping([\"a\", \"v\", \"y\", \"z\"]) ➞ { \"a\": \"A\", \"v\": \"V\", \"y\": \"Y\", \"z\": \"Z\" }\n",
    "#Notes\n",
    "#All of the letters in the input list will always be lowercase.\n",
    "\n",
    "def mapping(l):\n",
    "    d ={}\n",
    "    for i in l:\n",
    "        d[i] = i.upper()\n",
    "    print(d)\n",
    "    \n",
    "mapping([\"p\", \"s\"])\n",
    "mapping([\"a\", \"b\", \"c\"])\n",
    "mapping([\"a\", \"v\", \"y\", \"z\"])"
   ]
  },
  {
   "cell_type": "code",
   "execution_count": 29,
   "metadata": {},
   "outputs": [
    {
     "name": "stdout",
     "output_type": "stream",
     "text": [
      "upplus und bununus\n",
      "chooso cossorolo\n",
      "steffed jelepene peppers\n"
     ]
    }
   ],
   "source": [
    "#Question4\n",
    "#Write a function, that replaces all vowels in a string with a specified vowel.\n",
    "#Examples\n",
    "#vow_replace(\"apples and bananas\", \"u\") ➞ \"upplus und bununus\"\n",
    "\n",
    "#vow_replace(\"cheese casserole\", \"o\") ➞ \"chooso cossorolo\"\n",
    "\n",
    "#vow_replace(\"stuffed jalapeno poppers\", \"e\") ➞ \"steffed jelepene peppers\"\n",
    "#Notes\n",
    "#All words will be lowercase. Y is not considered a vowel.\n",
    "\n",
    "def vow_replace(x,y):\n",
    "    for i in range(len(x)):\n",
    "        if x[i] in ['a','e','i','o','u']:\n",
    "            x = x[:i]+y+x[i+1:]\n",
    "    print(x)\n",
    "\n",
    "vow_replace(\"apples and bananas\", \"u\")\n",
    "vow_replace(\"cheese casserole\", \"o\")\n",
    "vow_replace(\"stuffed jalapeno poppers\", \"e\")"
   ]
  },
  {
   "cell_type": "code",
   "execution_count": 37,
   "metadata": {},
   "outputs": [
    {
     "name": "stdout",
     "output_type": "stream",
     "text": [
      "THe LiTTLe meRmaiD\n",
      "oH wHaT a BeauTiFuL moRNiNg.\n"
     ]
    }
   ],
   "source": [
    "#Question5\n",
    "#Create a function that takes a string as input and capitalizes a letter if its ASCII code is even\n",
    "#and returns its lower case version if its ASCII code is odd.\n",
    "#Examples\n",
    "#ascii_capitalize(\"to be or not to be!\") ➞ \"To Be oR NoT To Be!\"\n",
    "\n",
    "#ascii_capitalize(\"THE LITTLE MERMAID\") ➞ \"THe LiTTLe meRmaiD\"\n",
    "\n",
    "#ascii_capitalize(\"Oh what a beautiful morning.\") ➞ \"oH wHaT a BeauTiFuL moRNiNg.\"\n",
    "\n",
    "def ascii_capitalize(x):\n",
    "    for i in range(len(x)):\n",
    "        if ord(x[i])%2 == 1:\n",
    "            x = x[:i]+ x[i].lower()+x[i+1:]\n",
    "        else:\n",
    "            x = x[:i]+ x[i].upper()+x[i+1:]\n",
    "    print(x)\n",
    "ascii_capitalize(\"THE LITTLE MERMAID\")\n",
    "ascii_capitalize(\"Oh what a beautiful morning.\")"
   ]
  },
  {
   "cell_type": "code",
   "execution_count": null,
   "metadata": {},
   "outputs": [],
   "source": []
  }
 ],
 "metadata": {
  "kernelspec": {
   "display_name": "Python 3",
   "language": "python",
   "name": "python3"
  },
  "language_info": {
   "codemirror_mode": {
    "name": "ipython",
    "version": 3
   },
   "file_extension": ".py",
   "mimetype": "text/x-python",
   "name": "python",
   "nbconvert_exporter": "python",
   "pygments_lexer": "ipython3",
   "version": "3.8.3"
  }
 },
 "nbformat": 4,
 "nbformat_minor": 4
}
