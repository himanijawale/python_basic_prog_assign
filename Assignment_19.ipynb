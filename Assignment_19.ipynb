{
 "cells": [
  {
   "cell_type": "code",
   "execution_count": 12,
   "metadata": {},
   "outputs": [
    {
     "name": "stdout",
     "output_type": "stream",
     "text": [
      "HHeelllloo  WWoorrlldd!!\n"
     ]
    }
   ],
   "source": [
    "#Question1\n",
    "#Create a function that takes a string and returns a string in which each character is repeated \n",
    "#once.\n",
    "#Examples\n",
    "#double_char(\"String\") ➞ \"SSttrriinngg\"\n",
    "\n",
    "#double_char(\"Hello World!\") ➞ \"HHeelllloo  WWoorrlldd!!\"\n",
    "\n",
    "#double_char(\"1234!_ \") ➞ \"11223344!!__  \"\n",
    "def double_char(x):\n",
    "    d_ch=[]\n",
    "    dummy=list(x)\n",
    "    for i in dummy:\n",
    "        d_ch+=i*2\n",
    "    return \"\".join(x for x in d_ch)\n",
    "word=double_char(\"Hello World!\")\n",
    "print(word)"
   ]
  },
  {
   "cell_type": "code",
   "execution_count": 26,
   "metadata": {},
   "outputs": [
    {
     "name": "stdout",
     "output_type": "stream",
     "text": [
      "False\n",
      "True\n",
      "boolean expected\n",
      "boolean expected\n"
     ]
    }
   ],
   "source": [
    "#Question2\n",
    "#Create a function that reverses a boolean value and returns the string \"boolean expected\" if \n",
    "#another variable type is given.\n",
    "#Examples\n",
    "#reverse(True) ➞ False\n",
    "\n",
    "#reverse(False) ➞ True\n",
    "\n",
    "#reverse(0) ➞ \"boolean expected\"\n",
    "\n",
    "#reverse(None) ➞ \"boolean expected\"\n",
    "\n",
    "def reverse(x):\n",
    "    if type(x)==int:\n",
    "        print(\"boolean expected\")\n",
    "    elif x==True or x==False:\n",
    "        x=not x\n",
    "        print(x)\n",
    "    else:\n",
    "        print(\"boolean expected\")\n",
    "\n",
    "reverse(True)\n",
    "reverse(False)\n",
    "reverse(0)\n",
    "reverse(None)"
   ]
  },
  {
   "cell_type": "code",
   "execution_count": 38,
   "metadata": {},
   "outputs": [
    {
     "name": "stdout",
     "output_type": "stream",
     "text": [
      "Enter numebr of folds:\t21\n",
      "1048.576m\n"
     ]
    }
   ],
   "source": [
    "#Question3\n",
    "#Create a function that returns the thickness (in meters) of a piece of paper after folding it \n",
    "#n number of times. The paper starts off with a thickness of 0.5mm.\n",
    "#Examples\n",
    "#num_layers(1) ➞ \"0.001m\"\n",
    "# Paper folded once is 1mm (equal to 0.001m)\n",
    "\n",
    "#num_layers(4) ➞ \"0.008m\"\n",
    "# Paper folded 4 times is 8mm (equal to 0.008m)\n",
    "\n",
    "#num_layers(21) ➞ \"1048.576m\"\n",
    "# Paper folded 21 times is 1048576mm (equal to 1048.576m)\n",
    "\n",
    "from math import pow\n",
    "def num_layers(x):\n",
    "    return pow(2,x)*0.5/1000\n",
    "\n",
    "num=int(input(\"Enter numebr of folds:\\t\"))\n",
    "thick = num_layers(num)\n",
    "print(thick,\"m\",sep=\"\")"
   ]
  },
  {
   "cell_type": "code",
   "execution_count": 4,
   "metadata": {},
   "outputs": [
    {
     "name": "stdout",
     "output_type": "stream",
     "text": [
      "Enter word:\teQuINoX\n",
      "[1, 3, 4, 6]\n"
     ]
    }
   ],
   "source": [
    "#Question4\n",
    "#Create a function that takes a single string as argument and returns an ordered list containing \n",
    "#the indices of all capital letters in the string.\n",
    "#Examples\n",
    "#index_of_caps(\"eDaBiT\") ➞ [1, 3, 5]\n",
    "\n",
    "#index_of_caps(\"eQuINoX\") ➞ [1, 3, 4, 6]\n",
    "\n",
    "#index_of_caps(\"determine\") ➞ []\n",
    "\n",
    "#index_of_caps(\"STRIKE\") ➞ [0, 1, 2, 3, 4, 5]\n",
    "\n",
    "#index_of_caps(\"sUn\") ➞ [1]\n",
    "\n",
    "def index_of_caps(x):\n",
    "    l=[]\n",
    "    for i in range(len(x)):\n",
    "        if x[i].isupper():\n",
    "            l.append(i)\n",
    "    return l\n",
    "\n",
    "word = input(\"Enter word:\\t\")\n",
    "print(index_of_caps(word))"
   ]
  },
  {
   "cell_type": "code",
   "execution_count": 5,
   "metadata": {},
   "outputs": [
    {
     "name": "stdout",
     "output_type": "stream",
     "text": [
      "Enter number:\t8\n",
      "[2, 4, 6, 8]\n"
     ]
    }
   ],
   "source": [
    "#Question5\n",
    "#Using list comprehensions, create a function that finds all even numbers from 1 to the given \n",
    "#number.\n",
    "#Examples\n",
    "#find_even_nums(8) ➞ [2, 4, 6, 8]\n",
    "\n",
    "#find_even_nums(4) ➞ [2, 4]\n",
    "\n",
    "#find_even_nums(2) ➞ [2]\n",
    "\n",
    "def find_even_nums(x):\n",
    "    l=[]\n",
    "    for i in range(1,x+1):\n",
    "        if i%2 == 0:\n",
    "            l.append(i)\n",
    "    return l\n",
    "\n",
    "num = int(input(\"Enter number:\\t\"))\n",
    "print(find_even_nums(num))"
   ]
  },
  {
   "cell_type": "code",
   "execution_count": null,
   "metadata": {},
   "outputs": [],
   "source": []
  }
 ],
 "metadata": {
  "kernelspec": {
   "display_name": "Python 3",
   "language": "python",
   "name": "python3"
  },
  "language_info": {
   "codemirror_mode": {
    "name": "ipython",
    "version": 3
   },
   "file_extension": ".py",
   "mimetype": "text/x-python",
   "name": "python",
   "nbconvert_exporter": "python",
   "pygments_lexer": "ipython3",
   "version": "3.8.3"
  }
 },
 "nbformat": 4,
 "nbformat_minor": 4
}
