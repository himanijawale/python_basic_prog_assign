{
 "cells": [
  {
   "cell_type": "code",
   "execution_count": 5,
   "metadata": {},
   "outputs": [
    {
     "name": "stdout",
     "output_type": "stream",
     "text": [
      "[2, 4, 6]\n",
      "[2, 4, 6]\n",
      "[2, 4, 6]\n"
     ]
    }
   ],
   "source": [
    "#Write a Python Program to Add Two Matrices?\n",
    "x=[[1,2,3],[1,2,3],[1,2,3]]\n",
    "y=[[1,2,3],[1,2,3],[1,2,3]]\n",
    "result=[[0,0,0],[0,0,0],[0,0,0]]\n",
    "for i in range(len(x)):\n",
    "    for j in range(len(x[0])):\n",
    "        result[i][j]=x[i][j]+y[i][j]\n",
    "for i in result:\n",
    "    print (i)"
   ]
  },
  {
   "cell_type": "code",
   "execution_count": 7,
   "metadata": {},
   "outputs": [
    {
     "name": "stdout",
     "output_type": "stream",
     "text": [
      "[6, 12, 18]\n",
      "[6, 12, 18]\n",
      "[6, 12, 18]\n"
     ]
    }
   ],
   "source": [
    "#Write a Python Program to Multiply Two Matrices?\n",
    "x=[[1,2,3],[1,2,3],[1,2,3]]\n",
    "y=[[1,2,3],[1,2,3],[1,2,3]]\n",
    "result=[[0,0,0],[0,0,0],[0,0,0]]\n",
    "for i in range(len(x)):\n",
    "    for j in range(len(y[0])):\n",
    "        for k in range(len(y)):\n",
    "            result[i][j]+=x[i][k]*y[k][j]\n",
    "for i in result:\n",
    "    print(i)"
   ]
  },
  {
   "cell_type": "code",
   "execution_count": 28,
   "metadata": {},
   "outputs": [
    {
     "name": "stdout",
     "output_type": "stream",
     "text": [
      "Enter rows in matrix:\t2\n",
      "Enter columns in matrix:\t3\n",
      "Enter numbers row-wise:\t\n",
      "1\n",
      "2\n",
      "3\n",
      "4\n",
      "5\n",
      "6\n",
      "[[1, 2, 3], [4, 5, 6]]\n",
      "1 4 \n",
      "2 5 \n",
      "3 6 \n"
     ]
    }
   ],
   "source": [
    "#Write a Python Program to Transpose a Matrix?\n",
    "row,col=int(input(\"Enter rows in matrix:\\t\")),int(input(\"Enter columns in matrix:\\t\"))\n",
    "\n",
    "m =[]\n",
    "r =[]\n",
    "print(\"Enter numbers row-wise:\\t\")        \n",
    "for i in range(row):\n",
    "    a=[]\n",
    "    for j in range(col):\n",
    "        a.append(int(input()))  \n",
    "    m.append(a)\n",
    "    \n",
    "for i in range(col):\n",
    "    b=[]\n",
    "    for j in range(row):\n",
    "        b.append(0)\n",
    "    r.append(b)\n",
    "\n",
    "print(m)\n",
    "for i in range(row):\n",
    "    for j in range(col):\n",
    "        r[j][i]=m[i][j]\n",
    "for i in range(col):\n",
    "    for j in range(row):\n",
    "        print(r[i][j], end=\" \")\n",
    "    print()"
   ]
  },
  {
   "cell_type": "code",
   "execution_count": 2,
   "metadata": {},
   "outputs": [
    {
     "name": "stdout",
     "output_type": "stream",
     "text": [
      "Enter words:\tHello I Am a good programmer\n",
      "The sorted words:\n",
      "a\n",
      "am\n",
      "good\n",
      "hello\n",
      "i\n",
      "programmer\n"
     ]
    }
   ],
   "source": [
    "# Write a Python Program to Sort Words in Alphabetic Order?\n",
    "sen = input(\"Enter words:\\t\")\n",
    "words = [word.lower() for word in sen.split()]\n",
    "words.sort()\n",
    "print(\"The sorted words:\")\n",
    "for word in words:\n",
    "    print(word)"
   ]
  },
  {
   "cell_type": "code",
   "execution_count": 4,
   "metadata": {},
   "outputs": [
    {
     "name": "stdout",
     "output_type": "stream",
     "text": [
      "Enter sentence:\thello! how are you? ...\n",
      "hello how are you \n"
     ]
    }
   ],
   "source": [
    "#Write a Python Program to Remove Punctuation From a String?\n",
    "from string import punctuation\n",
    "sen = input(\"Enter sentence:\\t\")\n",
    "text = \"\"\n",
    "for char in sen:\n",
    "    if char not in punctuation:\n",
    "        text = text + char\n",
    "print(text)"
   ]
  },
  {
   "cell_type": "code",
   "execution_count": null,
   "metadata": {},
   "outputs": [],
   "source": []
  },
  {
   "cell_type": "code",
   "execution_count": null,
   "metadata": {},
   "outputs": [],
   "source": []
  }
 ],
 "metadata": {
  "kernelspec": {
   "display_name": "Python 3",
   "language": "python",
   "name": "python3"
  },
  "language_info": {
   "codemirror_mode": {
    "name": "ipython",
    "version": 3
   },
   "file_extension": ".py",
   "mimetype": "text/x-python",
   "name": "python",
   "nbconvert_exporter": "python",
   "pygments_lexer": "ipython3",
   "version": "3.8.3"
  }
 },
 "nbformat": 4,
 "nbformat_minor": 4
}
