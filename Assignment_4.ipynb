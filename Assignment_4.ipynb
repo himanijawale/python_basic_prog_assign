{
 "cells": [
  {
   "cell_type": "code",
   "execution_count": 11,
   "metadata": {},
   "outputs": [
    {
     "name": "stdout",
     "output_type": "stream",
     "text": [
      "Enter number:\t5\n",
      "The factorial of 5 is 120\n"
     ]
    }
   ],
   "source": [
    "#Write a Python Program to Find the Factorial of a Number?\n",
    "num=int(input(\"Enter number:\\t\"))\n",
    "fact=1\n",
    "if num<0:\n",
    "    print(\"Factorial does not exist for negative numbers\")\n",
    "elif num ==0:\n",
    "    print(\"The factorial of 0 is 1\")\n",
    "else:\n",
    "    for i in range(1,num+1):\n",
    "        fact = fact*i\n",
    "    print(\"The factorial of\", num,\"is\",fact)"
   ]
  },
  {
   "cell_type": "code",
   "execution_count": 13,
   "metadata": {},
   "outputs": [
    {
     "name": "stdout",
     "output_type": "stream",
     "text": [
      "Enter number:\t22\n",
      "22 x 1 = 22\n",
      "22 x 2 = 44\n",
      "22 x 3 = 66\n",
      "22 x 4 = 88\n",
      "22 x 5 = 110\n",
      "22 x 6 = 132\n",
      "22 x 7 = 154\n",
      "22 x 8 = 176\n",
      "22 x 9 = 198\n",
      "22 x 10 = 220\n"
     ]
    }
   ],
   "source": [
    "#Write a Python Program to Display the multiplication Table?\n",
    "num = int(input(\"Enter number:\\t\"))\n",
    "for i in range(1,11):\n",
    "    print(num,'x',i,'=',num*i)"
   ]
  },
  {
   "cell_type": "code",
   "execution_count": 5,
   "metadata": {},
   "outputs": [
    {
     "name": "stdout",
     "output_type": "stream",
     "text": [
      "0\n",
      "1\n",
      "1\n",
      "2\n",
      "3\n",
      "5\n",
      "8\n",
      "13\n",
      "21\n",
      "34\n"
     ]
    }
   ],
   "source": [
    "#Write a Python Program to Print the Fibonacci sequence?\n",
    "def fib_seq(x):\n",
    "    a,b = 0,1\n",
    "    for i in range(x):\n",
    "        print(a)\n",
    "        a,b = b, a+b\n",
    "        \n",
    "num=int(input(\"Enter how many numbers of fibonacci sequence:\\t\"))\n",
    "fib_seq(num)\n",
    "        "
   ]
  },
  {
   "cell_type": "code",
   "execution_count": 30,
   "metadata": {},
   "outputs": [
    {
     "name": "stdout",
     "output_type": "stream",
     "text": [
      "Enter number:\t1634\n",
      "1634 is a armstrong number\n"
     ]
    }
   ],
   "source": [
    "#Write a Python Program to Check Armstrong Number?\n",
    "num=input(\"Enter number:\\t\")\n",
    "arm=0\n",
    "for i in num:\n",
    "    arm = arm + (int(i)**len(num))\n",
    "if arm == int(num):\n",
    "    print(num,\"is a armstrong number\")\n",
    "else:\n",
    "    print(num,\"is not a armstrong number\")"
   ]
  },
  {
   "cell_type": "code",
   "execution_count": 53,
   "metadata": {},
   "outputs": [
    {
     "name": "stdout",
     "output_type": "stream",
     "text": [
      "Enter the interval:\t0 2000\n",
      "Armstrong numbers:  [1, 2, 3, 4, 5, 6, 7, 8, 9, 153, 370, 371, 407, 1634]\n"
     ]
    }
   ],
   "source": [
    "#Write a Python Program to Find Armstrong Number in an Interval?\n",
    "x,y=input(\"Enter the interval:\\t\").split()\n",
    "arm_list=[]\n",
    "for i in range(int(x), int(y)+1):\n",
    "    num=i\n",
    "    len=0\n",
    "    while num>0:\n",
    "        num=num//10\n",
    "        len+=1\n",
    "    num=str(i)\n",
    "    arm=0\n",
    "    for j in num:\n",
    "        arm = arm + (int(j)**len)\n",
    "    if arm == i:\n",
    "        arm_list.append(i)\n",
    "print(\"Armstrong numbers: \",arm_list)"
   ]
  },
  {
   "cell_type": "code",
   "execution_count": 55,
   "metadata": {},
   "outputs": [
    {
     "name": "stdout",
     "output_type": "stream",
     "text": [
      "Enter number:\t4\n"
     ]
    },
    {
     "data": {
      "text/plain": [
       "10"
      ]
     },
     "execution_count": 55,
     "metadata": {},
     "output_type": "execute_result"
    }
   ],
   "source": [
    "#Write a Python Program to Find the Sum of Natural Numbers?\n",
    "num= int(input(\"Enter number:\\t\"))\n",
    "sum_nat= num*(num+1)//2\n",
    "sum_nat"
   ]
  }
 ],
 "metadata": {
  "kernelspec": {
   "display_name": "Python 3",
   "language": "python",
   "name": "python3"
  },
  "language_info": {
   "codemirror_mode": {
    "name": "ipython",
    "version": 3
   },
   "file_extension": ".py",
   "mimetype": "text/x-python",
   "name": "python",
   "nbconvert_exporter": "python",
   "pygments_lexer": "ipython3",
   "version": "3.8.3"
  }
 },
 "nbformat": 4,
 "nbformat_minor": 4
}
