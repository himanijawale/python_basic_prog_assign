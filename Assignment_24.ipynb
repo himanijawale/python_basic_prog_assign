{
 "cells": [
  {
   "cell_type": "code",
   "execution_count": 3,
   "metadata": {},
   "outputs": [
    {
     "name": "stdout",
     "output_type": "stream",
     "text": [
      "25\n",
      "[1, 2, 3, 40, 5, 6, 7, 80, 9, 10, 11, 120, 13, 14, 15, 160, 17, 18, 19, 200, 21, 22, 23, 240, 25]\n"
     ]
    }
   ],
   "source": [
    "#Question1\n",
    "#Create a function that takes an integer and returns a list from 1 to the given number, where:\n",
    "#If the number can be divided evenly by 4, amplify it by 10 (i.e. return 10 times the number).\n",
    "#If the number cannot be divided evenly by 4, simply return the number.\n",
    "#Examples\n",
    "#amplify(4) ➞ [1, 2, 3, 40]\n",
    "\n",
    "#amplify(3) ➞ [1, 2, 3]\n",
    "\n",
    "#amplify(25) ➞ [1, 2, 3, 40, 5, 6, 7, 80, 9, 10, 11, 120, 13, 14, 15, 160, 17, 18, 19, \n",
    "#               200, 21, 22, 23, 240, 25]\n",
    "#Notes\n",
    "#The given integer will always be equal to or greater than 1.\n",
    "#Include the number (see example above).\n",
    "#To perform this problem with its intended purpose, try doing it with list comprehensions. \n",
    "#If that's too difficult, just solve the challenge any way you can.\n",
    "\n",
    "def amplify(x):\n",
    "    s=[]\n",
    "    for i in range(1,x+1):\n",
    "        if i%4 == 0:\n",
    "            s.append(i*10)\n",
    "        else:\n",
    "            s.append(i)\n",
    "    return s\n",
    "\n",
    "n = int(input())\n",
    "\n",
    "print(amplify(n))"
   ]
  },
  {
   "cell_type": "code",
   "execution_count": 16,
   "metadata": {},
   "outputs": [
    {
     "name": "stdout",
     "output_type": "stream",
     "text": [
      "0\n",
      "0.77\n",
      "7\n"
     ]
    }
   ],
   "source": [
    "#Question2\n",
    "#Create a function that takes a list of numbers and return the number that's unique.\n",
    "#Examples\n",
    "#unique([3, 3, 3, 7, 3, 3]) ➞ 7\n",
    "\n",
    "#unique([0, 0, 0.77, 0, 0]) ➞ 0.77\n",
    "\n",
    "#unique([0, 1, 1, 1, 1, 1, 1, 1]) ➞ 0\n",
    "#Notes\n",
    "#Test cases will always have exactly one unique number while all others are the same.\n",
    "from collections import Counter\n",
    "\n",
    "def unique(l):\n",
    "    g = Counter(l)\n",
    "    for i in g.items():\n",
    "        if i[1] == 1:\n",
    "            print(i[0])\n",
    "\n",
    "unique([0, 1, 1, 1, 1, 1, 1, 1])\n",
    "unique([0, 0, 0.77, 0, 0])  \n",
    "unique([3, 3, 3, 7, 3, 3])"
   ]
  },
  {
   "cell_type": "code",
   "execution_count": 21,
   "metadata": {},
   "outputs": [
    {
     "name": "stdout",
     "output_type": "stream",
     "text": [
      "380.132711084365\n",
      "380\n",
      "27.897342763877365\n",
      "28\n"
     ]
    }
   ],
   "source": [
    "#Question3\n",
    "#Your task is to create a Circle constructor that creates a circle with a radius provided by an \n",
    "#argument. The circles constructed must have two getters getArea() (PIr^2) and getPerimeter() \n",
    "#(2PI*r) which give both respective areas and perimeter (circumference).\n",
    "#For help with this class, I have provided you with a Rectangle constructor which you can use as \n",
    "#a base example.\n",
    "#Examples\n",
    "#circy = Circle(11)\n",
    "#circy.getArea()\n",
    "\n",
    "# Should return 380.132711084365\n",
    "\n",
    "#circy = Circle(4.44)\n",
    "#circy.getPerimeter()\n",
    "\n",
    "# Should return 27.897342763877365\n",
    "#Notes\n",
    "#Round results up to the nearest integer.\n",
    "\n",
    "import math\n",
    "\n",
    "class Circle():\n",
    "    def __init__(self,r):\n",
    "        self.r = r\n",
    "    def getArea(self):\n",
    "        print(math.pi*self.r**2)\n",
    "        print(round(math.pi*self.r**2))\n",
    "    def getPerimeter(self):\n",
    "        print(2*math.pi*self.r)\n",
    "        print(round(2*math.pi*self.r))\n",
    "    \n",
    "circy = Circle(11)\n",
    "circy.getArea()\n",
    "\n",
    "circy = Circle(4.44)\n",
    "circy.getPerimeter()\n"
   ]
  },
  {
   "cell_type": "code",
   "execution_count": 3,
   "metadata": {},
   "outputs": [
    {
     "name": "stdout",
     "output_type": "stream",
     "text": [
      "['Raphael', 'Leonardo', 'Donatello', 'Michelangelo']\n"
     ]
    }
   ],
   "source": [
    "#Question4\n",
    "#Create a function that takes a list of strings and return a list, sorted from shortest to longest\n",
    "#Examples\n",
    "#sort_by_length([\"Google\", \"Apple\", \"Microsoft\"])\n",
    "#➞ [\"Apple\", \"Google\", \"Microsoft\"]\n",
    "\n",
    "#sort_by_length([\"Leonardo\", \"Michelangelo\", \"Raphael\", \"Donatello\"])\n",
    "#➞ [\"Raphael\", \"Leonardo\", \"Donatello\", \"Michelangelo\"]\n",
    "\n",
    "#sort_by_length([\"Turing\", \"Einstein\", \"Jung\"])\n",
    "#➞ [\"Jung\", \"Turing\", \"Einstein\"]\n",
    "#Notes\n",
    "#All test cases contain lists with strings of different lengths, so you won't have to deal with \n",
    "#multiple strings of the same length.\n",
    "\n",
    "def sort_by_length(l):\n",
    "    l = sorted(l, key=len)\n",
    "    print(l)\n",
    "    \n",
    "sort_by_length([\"Leonardo\", \"Michelangelo\", \"Raphael\", \"Donatello\"])"
   ]
  },
  {
   "cell_type": "code",
   "execution_count": 14,
   "metadata": {},
   "outputs": [
    {
     "name": "stdout",
     "output_type": "stream",
     "text": [
      "True\n",
      "False\n"
     ]
    }
   ],
   "source": [
    "#Question5\n",
    "#Create a function that validates whether three given integers form a Pythagorean triplet. \n",
    "#The sum of the squares of the two smallest integers must equal the square of the largest number\n",
    "#to be validated.\n",
    "\n",
    "#Examples\n",
    "#is_triplet(3, 4, 5) ➞ True\n",
    "# 3² + 4² = 25\n",
    "# 5² = 25\n",
    "\n",
    "#is_triplet(13, 5, 12) ➞ True\n",
    "# 5² + 12² = 169\n",
    "# 13² = 169\n",
    "\n",
    "#is_triplet(1, 2, 3) ➞ False\n",
    "# 1² + 2² = 5\n",
    "# 3² = 9\n",
    "#Notes\n",
    "#Numbers may not be given in a sorted order.\n",
    "\n",
    "def is_triplet(x,y,z):\n",
    "    l = sorted ([x,y,z])\n",
    "    if l[0]**2 + l[1]**2 == l[2]**2:\n",
    "        print(True)\n",
    "    else:\n",
    "        print(False)\n",
    "\n",
    "is_triplet(12,13,5)\n",
    "is_triplet(1,2,3)"
   ]
  },
  {
   "cell_type": "code",
   "execution_count": null,
   "metadata": {},
   "outputs": [],
   "source": []
  }
 ],
 "metadata": {
  "kernelspec": {
   "display_name": "Python 3",
   "language": "python",
   "name": "python3"
  },
  "language_info": {
   "codemirror_mode": {
    "name": "ipython",
    "version": 3
   },
   "file_extension": ".py",
   "mimetype": "text/x-python",
   "name": "python",
   "nbconvert_exporter": "python",
   "pygments_lexer": "ipython3",
   "version": "3.8.3"
  }
 },
 "nbformat": 4,
 "nbformat_minor": 4
}
