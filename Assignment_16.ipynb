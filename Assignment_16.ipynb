{
 "cells": [
  {
   "cell_type": "code",
   "execution_count": 3,
   "metadata": {},
   "outputs": [
    {
     "name": "stdout",
     "output_type": "stream",
     "text": [
      "Enter wordd:\tenthusiastic\n",
      "en... en... enthusiastic?\n"
     ]
    }
   ],
   "source": [
    "#Question1. Write a function that stutters a word as if someone is struggling to read it. The \n",
    "#first two letters are repeated twice with an ellipsis ... and space after each, and then the \n",
    "#word is pronounced with a question mark ?.\n",
    "#Examples\n",
    "#stutter(\"incredible\") ➞ \"in... in... incredible?\"\n",
    "#stutter(\"enthusiastic\") ➞ \"en... en... enthusiastic?\"\n",
    "#stutter(\"outstanding\") ➞ \"ou... ou... outstanding?\"\n",
    "#Hint :- Assume all input is in lower case and at least two characters long.\n",
    "def stutter(x):\n",
    "    st=x[0:2]+\"... \"+x[0:2]+\"... \"+x+\"?\"\n",
    "    return st\n",
    "\n",
    "word = input(\"Enter wordd:\\t\")\n",
    "st_word=stutter(word)\n",
    "print(st_word)"
   ]
  },
  {
   "cell_type": "code",
   "execution_count": 19,
   "metadata": {},
   "outputs": [
    {
     "name": "stdout",
     "output_type": "stream",
     "text": [
      "Enter radians:\t20\n",
      "20  radian is  1145.9  degrees\n"
     ]
    }
   ],
   "source": [
    "#Question 2.Create a function that takes an angle in radians and returns the corresponding angle \n",
    "#in degrees rounded to one decimal place.\n",
    "#Examples\n",
    "#radians_to_degrees(1) ➞ 57.3\n",
    "#radians_to_degrees(20) ➞ 1145.9\n",
    "#radians_to_degrees(50) ➞ 2864.8\n",
    "from math import degrees\n",
    "def radians_to_degrees(x):\n",
    "    return round(math.degrees(x),1)\n",
    "rad = int(input(\"Enter radians:\\t\"))\n",
    "deg = radians_to_degrees(rad)\n",
    "print(rad,\" radian is \",deg,\" degrees\")"
   ]
  },
  {
   "cell_type": "code",
   "execution_count": 18,
   "metadata": {},
   "outputs": [
    {
     "name": "stdout",
     "output_type": "stream",
     "text": [
      "Enter number:\t1\n",
      "The number  1 is a curzon number\n"
     ]
    }
   ],
   "source": [
    "#Question 3. In this challenge, establish if a given integer num is a Curzon number. If 1 plus 2 \n",
    "#elevated to num is exactly divisible by 1 plus 2 multiplied by num, then num is a Curzon number.\n",
    "#Given a non-negative integer num, implement a function that returns True if num is a Curzon \n",
    "#number, or False otherwise.\n",
    "#Examples\n",
    "#is_curzon(5) ➞ True\n",
    "# 2 ** 5 + 1 = 33\n",
    "# 2 * 5 + 1 = 11\n",
    "# 33 is a multiple of 11\n",
    "\n",
    "#is_curzon(10) ➞ False\n",
    "# 2 ** 10 + 1 = 1025\n",
    "# 2 * 10 + 1 = 21\n",
    "# 1025 is not a multiple of 21\n",
    "\n",
    "#is_curzon(14) ➞ True\n",
    "# 2 ** 14 + 1 = 16385\n",
    "# 2 * 14 + 1 = 29\n",
    "# 16385 is a multiple of 29\n",
    "\n",
    "def is_curzon(x):\n",
    "    if (2**x +1)%(2*x+1)==0:\n",
    "        print(\"The number \",x,\"is a curzon number\")\n",
    "    else:\n",
    "        print(\"The number \",x,\"is not a curzon number\")\n",
    "\n",
    "\n",
    "num = int(input(\"Enter number:\\t\"))\n",
    "if num<0:\n",
    "    print(\"Please enter non negative number\")\n",
    "else:\n",
    "    is_curzon(num)"
   ]
  },
  {
   "cell_type": "code",
   "execution_count": 23,
   "metadata": {},
   "outputs": [
    {
     "name": "stdout",
     "output_type": "stream",
     "text": [
      "Enter side:\t2\n",
      "The area is  10.4\n"
     ]
    }
   ],
   "source": [
    "#Question 4.Given the side length x find the area of a hexagon.\n",
    "#A=3*sqrt(3)*side**2  /2\n",
    "#Examples\n",
    "#area_of_hexagon(1) ➞ 2.6\n",
    "#area_of_hexagon(2) ➞ 10.4\n",
    "#area_of_hexagon(3) ➞ 23.4\n",
    "\n",
    "from math import sqrt\n",
    "\n",
    "def area_of_hexagon(x):\n",
    "    return (3*sqrt(3)*x**2/2)\n",
    "\n",
    "side=float(input(\"Enter side:\\t\"))\n",
    "area=area_of_hexagon(side)\n",
    "print(\"The area is \",round(area,1))"
   ]
  },
  {
   "cell_type": "code",
   "execution_count": 32,
   "metadata": {},
   "outputs": [
    {
     "name": "stdout",
     "output_type": "stream",
     "text": [
      "Enter decimal number:\t12\n",
      "1100"
     ]
    }
   ],
   "source": [
    "#Question 5. Create a function that returns a base-2 (binary) representation of a base-10 (decimal\n",
    "#) string number. To convert is simple: ((2) means base-2 and (10) means base-10) 010101001(2) = 1\n",
    "#+ 8 + 32 + 128.\n",
    "#Going from right to left, the value of the most right bit is 1, now from that every bit to the\n",
    "#left will be x2 the value, value of an 8 bit binary numbers are (256, 128, 64, 32, 16, 8, 4, 2, 1\n",
    "# ).\n",
    "#Examples\n",
    "#binary(1) ➞ \"1\"\n",
    "# 1*1 = 1\n",
    "\n",
    "#binary(5) ➞ \"101\"\n",
    "# 1*1 + 1*4 = 5\n",
    "\n",
    "#binary(10) ➞ \"1010\"\n",
    "# 1*2 + 1*8 = 10\n",
    "\n",
    "def binary(x):\n",
    "    if x>1:\n",
    "        binary(x//2)\n",
    "    print(x%2,end=\"\")\n",
    "\n",
    "num=int(input(\"Enter decimal number:\\t\"))\n",
    "binary(num)"
   ]
  },
  {
   "cell_type": "code",
   "execution_count": null,
   "metadata": {},
   "outputs": [],
   "source": []
  }
 ],
 "metadata": {
  "kernelspec": {
   "display_name": "Python 3",
   "language": "python",
   "name": "python3"
  },
  "language_info": {
   "codemirror_mode": {
    "name": "ipython",
    "version": 3
   },
   "file_extension": ".py",
   "mimetype": "text/x-python",
   "name": "python",
   "nbconvert_exporter": "python",
   "pygments_lexer": "ipython3",
   "version": "3.8.3"
  }
 },
 "nbformat": 4,
 "nbformat_minor": 4
}
