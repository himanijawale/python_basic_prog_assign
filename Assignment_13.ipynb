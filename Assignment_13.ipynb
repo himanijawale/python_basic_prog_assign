{
 "cells": [
  {
   "cell_type": "code",
   "execution_count": 19,
   "metadata": {},
   "outputs": [
    {
     "name": "stdout",
     "output_type": "stream",
     "text": [
      "Enter sequence with ,:\t100,150,180\n",
      "18, 22, 24\n"
     ]
    }
   ],
   "source": [
    "#Question 1:\n",
    "#Write a program that calculates and prints the value according to the given formula:\n",
    "#Q = Square root of [(2 * C * D)/H]\n",
    "#Following are the fixed values of C and H:\n",
    "#C is 50. H is 30.\n",
    "#D is the variable whose values should be input to your program in a comma-separated sequence.\n",
    "#Example\n",
    "#Let us assume the following comma separated input sequence is given to the program:\n",
    "#100,150,180\n",
    "#The output of the program should be:\n",
    "#18,22,24\n",
    "from math import sqrt\n",
    "d=input(\"Enter sequence separated with ,:\\t\").split(\",\")\n",
    "c=50\n",
    "h=30\n",
    "q=[]\n",
    "for i in d:\n",
    "    q.append(round(sqrt((2*int(i)*c)//h)))\n",
    "\n",
    "print(*q,sep=\", \")"
   ]
  },
  {
   "cell_type": "code",
   "execution_count": 21,
   "metadata": {},
   "outputs": [
    {
     "name": "stdout",
     "output_type": "stream",
     "text": [
      "Enter X:\t2\n",
      "Enter Y:\t2\n",
      "Enter numbers:\n",
      "1\n",
      "2\n",
      "3\n",
      "4\n",
      "[[1, 2], [3, 4]]\n"
     ]
    }
   ],
   "source": [
    "#Question 2:\n",
    "#Write a program which takes 2 digits, X,Y as input and generates a 2-dimensional array. \n",
    "#The element value in the i-th row and j-th column of the array should be i*j.\n",
    "#Note: i=0,1.., X-1; j=0,1,¡Y-1.\n",
    "#Example\n",
    "#Suppose the following inputs are given to the program:\n",
    "#3,5\n",
    "#Then, the output of the program should be:\n",
    "#[[0, 0, 0, 0, 0], [0, 1, 2, 3, 4], [0, 2, 4, 6, 8]] \n",
    "X=int(input(\"Enter X:\\t\"))\n",
    "Y=int(input(\"Enter Y:\\t\"))\n",
    "l=[]\n",
    "print(\"Enter numbers:\")\n",
    "for i in range(X):\n",
    "    k=[]\n",
    "    for j in range(Y):\n",
    "        k.append(int(input()))\n",
    "    l.append(k)\n",
    "print(l)"
   ]
  },
  {
   "cell_type": "code",
   "execution_count": 26,
   "metadata": {},
   "outputs": [
    {
     "name": "stdout",
     "output_type": "stream",
     "text": [
      "Enter words separated by ,:\tzone,cell,ball\n",
      "ball,cell,zone\n"
     ]
    }
   ],
   "source": [
    "#Question 3:\n",
    "#Write a program that accepts a comma separated sequence of words as input and prints the words \n",
    "#in a comma-separated sequence after sorting them alphabetically.\n",
    "#Suppose the following input is supplied to the program:\n",
    "#without,hello,bag,world\n",
    "#Then, the output should be:\n",
    "#bag,hello,without,world\n",
    "st = input(\"Enter words separated by ,:\\t\").split(\",\")\n",
    "st=sorted(st)\n",
    "res=\",\".join(x for x in st)\n",
    "print(res)"
   ]
  },
  {
   "cell_type": "code",
   "execution_count": 35,
   "metadata": {},
   "outputs": [
    {
     "name": "stdout",
     "output_type": "stream",
     "text": [
      "Enter words separated by space:\thello world and practice makes perfect and hello world again\n",
      "again and hello makes perfect practice world\n"
     ]
    }
   ],
   "source": [
    "#Question 4:\n",
    "#Write a program that accepts a sequence of whitespace separated words as input and prints the\n",
    "#words after removing all duplicate words and sorting them alphanumerically.\n",
    "#Suppose the following input is supplied to the program:\n",
    "#hello world and practice makes perfect and hello world again\n",
    "#Then, the output should be:\n",
    "#again and hello makes perfect practice world\n",
    "words=input(\"Enter words separated by space:\\t\").split(\" \")\n",
    "res=\" \".join(x  for x in sorted(list(set(words))))\n",
    "print(res)"
   ]
  },
  {
   "cell_type": "code",
   "execution_count": 3,
   "metadata": {},
   "outputs": [
    {
     "name": "stdout",
     "output_type": "stream",
     "text": [
      "Enter sentence:\tI am rank 1 student and I got 192 out of 200\n",
      "26 7\n"
     ]
    }
   ],
   "source": [
    "#Question 5:\n",
    "#Write a program that accepts a sentence and calculate the number of letters and digits.\n",
    "#Suppose the following input is supplied to the program:\n",
    "#hello world! 123\n",
    "#Then, the output should be:\n",
    "#LETTERS 10\n",
    "#DIGITS 3\n",
    "def num_chars(x):\n",
    "    num=0\n",
    "    cha=0\n",
    "    for i in x:\n",
    "        if i.isdigit():\n",
    "            num+=1\n",
    "        elif i.isalpha():\n",
    "            cha+=1\n",
    "    return cha,num\n",
    "sentence = input(\"Enter sentence:\\t\")\n",
    "char,num = num_chars(sentence)\n",
    "print(char,num)"
   ]
  },
  {
   "cell_type": "code",
   "execution_count": 22,
   "metadata": {},
   "outputs": [
    {
     "name": "stdout",
     "output_type": "stream",
     "text": [
      "Enter comma separated passwords:\tABd1234@1,a F1#,2w3E*,2We3345\n",
      "The correct passwords are:\n",
      "ABd1234@1\n"
     ]
    }
   ],
   "source": [
    "#Question 6:\n",
    "#A website requires the users to input username and password to register. Write a program to check the validity of password input by users.\n",
    "#Following are the criteria for checking the password:\n",
    "#1. At least 1 letter between [a-z]\n",
    "#2. At least 1 number between [0-9]\n",
    "#1. At least 1 letter between [A-Z]\n",
    "#3. At least 1 character from [$#@]\n",
    "#4. Minimum length of transaction password: 6\n",
    "#5. Maximum length of transaction password: 12\n",
    "#Your program should accept a sequence of comma separated passwords and will check them according to the above criteria. Passwords that match the criteria are to be printed, each separated by a comma.\n",
    "#Example\n",
    "#If the following passwords are given as input to the program:\n",
    "#ABd1234@1,a F1#,2w3E*,2We3345\n",
    "#Then, the output of the program should be:\n",
    "#ABd1234@1\n",
    "def check_pass(x):\n",
    "    for i in x:\n",
    "        if len(i)>=6 and len(i)<=12:\n",
    "            k=[0,0,0,0]\n",
    "            for j in i:\n",
    "                if j.isupper():\n",
    "                    k[0]=1\n",
    "                elif j.islower():\n",
    "                    k[1]=1\n",
    "                elif j.isdigit():\n",
    "                    k[2]=1\n",
    "                elif j in ['$','#','@']:\n",
    "                    k[3]=1\n",
    "            if 0 not in k:\n",
    "                print(i)\n",
    "        \n",
    "pas=input(\"Enter comma separated passwords:\\t\").split(\",\")\n",
    "print(\"The correct passwords are:\")\n",
    "check_pass(pas)"
   ]
  },
  {
   "cell_type": "code",
   "execution_count": null,
   "metadata": {},
   "outputs": [],
   "source": []
  }
 ],
 "metadata": {
  "kernelspec": {
   "display_name": "Python 3",
   "language": "python",
   "name": "python3"
  },
  "language_info": {
   "codemirror_mode": {
    "name": "ipython",
    "version": 3
   },
   "file_extension": ".py",
   "mimetype": "text/x-python",
   "name": "python",
   "nbconvert_exporter": "python",
   "pygments_lexer": "ipython3",
   "version": "3.8.3"
  }
 },
 "nbformat": 4,
 "nbformat_minor": 4
}
