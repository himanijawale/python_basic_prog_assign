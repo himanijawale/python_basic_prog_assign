{
 "cells": [
  {
   "cell_type": "code",
   "execution_count": 11,
   "metadata": {},
   "outputs": [
    {
     "name": "stdout",
     "output_type": "stream",
     "text": [
      "Enter list:\t3,23,45,3,2\n",
      "Enter number:\t4\n",
      "[23, 45, 3, 2, 4]\n"
     ]
    }
   ],
   "source": [
    "#Question1\n",
    "#Write a function that takes a list and a number as arguments. Add the number to the end of the \n",
    "#list, then remove the first element of the list. The function should then return the updated list.\n",
    "#Examples\n",
    "#next_in_line([5, 6, 7, 8, 9], 1) ➞ [6, 7, 8, 9, 1]\n",
    "\n",
    "#next_in_line([7, 6, 3, 23, 17], 10) ➞ [6, 3, 23, 17, 10]\n",
    "\n",
    "#next_in_line([1, 10, 20, 42 ], 6) ➞ [10, 20, 42, 6]\n",
    "\n",
    "#next_in_line([], 6) ➞ \"No list has been selected\"\n",
    "\n",
    "def next_in_line(l,n):\n",
    "    if len(l)==0:\n",
    "        return \"No list has been selected\"\n",
    "    else:\n",
    "        l.append(n)\n",
    "        del l[0]\n",
    "    return l\n",
    "lst = list(input(\"Enter list:\\t\").split(\",\"))\n",
    "if lst==['']:\n",
    "    lst=[]\n",
    "else:\n",
    "    for i in range(len(lst)):\n",
    "        lst[i]=int(lst[i])\n",
    "num=int(input(\"Enter number:\\t\"))\n",
    "print(next_in_line(lst,num))"
   ]
  },
  {
   "cell_type": "code",
   "execution_count": 20,
   "metadata": {},
   "outputs": [
    {
     "name": "stdout",
     "output_type": "stream",
     "text": [
      "Enter how many records:\t3\n",
      "Enter name:\tjohn\n",
      "Enter age:\t22\n",
      "Enter budget:\t22000\n",
      "Enter name:\tsteve 21\n",
      "Enter age:\t21\n",
      "Enter budget:\t21000\n",
      "Enter name:\tmarks\n",
      "Enter age:\t23\n",
      "Enter budget:\t23000\n",
      "69000\n"
     ]
    }
   ],
   "source": [
    "#Question2\n",
    "#Create the function that takes a list of dictionaries and returns the sum of people's budgets.\n",
    "#Examples\n",
    "#get_budgets([\n",
    "#  { \"name\": \"John\", \"age\": 21, \"budget\": 23000 },\n",
    "#  { \"name\": \"Steve\",  \"age\": 32, \"budget\": 40000 },\n",
    "#  { \"name\": \"Martin\",  \"age\": 16, \"budget\": 2700 }\n",
    "#]) ➞ 65700\n",
    "\n",
    "#get_budgets([\n",
    "#  { \"name\": \"John\",  \"age\": 21, \"budget\": 29000 },\n",
    "#  { \"name\": \"Steve\",  \"age\": 32, \"budget\": 32000 },\n",
    "#  { \"name\": \"Martin\",  \"age\": 16, \"budget\": 1600 }\n",
    "#]) ➞ 62600\n",
    "\n",
    "def get_budgets(list1):\n",
    "    sum=0\n",
    "    for i in list1:\n",
    "        sum+=i['budget']\n",
    "    return sum\n",
    "dict1={}\n",
    "lst=[]\n",
    "num=int(input(\"Enter how many records:\\t\"))\n",
    "for i in range(num):\n",
    "    dict1['name']=input(\"Enter name:\\t\")\n",
    "    dict1['age']=int(input(\"Enter age:\\t\"))\n",
    "    dict1['budget']=int(input(\"Enter budget:\\t\"))\n",
    "    lst.append(dict1)\n",
    "\n",
    "print(get_budgets(lst))"
   ]
  },
  {
   "cell_type": "code",
   "execution_count": 28,
   "metadata": {},
   "outputs": [
    {
     "name": "stdout",
     "output_type": "stream",
     "text": [
      "Enter string:\tedabit\n",
      "abdeit\n"
     ]
    }
   ],
   "source": [
    "#Question3\n",
    "#Create a function that takes a string and returns a string with its letters in alphabetical order.\n",
    "#Examples\n",
    "#alphabet_soup(\"hello\") ➞ \"ehllo\"\n",
    "\n",
    "#alphabet_soup(\"edabit\") ➞ \"abdeit\"\n",
    "\n",
    "#alphabet_soup(\"hacker\") ➞ \"acehkr\"\n",
    "\n",
    "#alphabet_soup(\"geek\") ➞ \"eegk\"\n",
    "\n",
    "#alphabet_soup(\"javascript\") ➞ \"aacijprstv\"\n",
    "\n",
    "def alphabet_soup(x):\n",
    "    lst = list(x)\n",
    "    lst=sorted(x)\n",
    "    x=\"\".join(i for i in lst)\n",
    "    return x\n",
    "\n",
    "str1=input(\"Enter string:\\t\")\n",
    "print(alphabet_soup(str1))"
   ]
  },
  {
   "cell_type": "code",
   "execution_count": 12,
   "metadata": {},
   "outputs": [
    {
     "name": "stdout",
     "output_type": "stream",
     "text": [
      "Enter principal amount, term, interest rate and no of times compounding is done:(','separated)\t100000,20,0.15,365\n"
     ]
    },
    {
     "data": {
      "text/plain": [
       "2007316.26"
      ]
     },
     "execution_count": 12,
     "metadata": {},
     "output_type": "execute_result"
    }
   ],
   "source": [
    "#Question4\n",
    "#Suppose that you invest $10,000 for 10 years at an interest rate of 6% compounded monthly. What \n",
    "#will be the value of your investment at the end of the 10 year period?\n",
    "#Create a function that accepts the principal p, the term in years t, the interest rate r, and the\n",
    "#number of compounding periods per year n. The function returns the value at the end of term \n",
    "#rounded to the nearest cent.\n",
    "#For the example above:\n",
    "#compound_interest(10000, 10, 0.06, 12) ➞ 18193.97\n",
    "#Note that the interest rate is given as a decimal and n=12 because with monthly compounding there\n",
    "#are 12 periods per year. Compounding can also be done annually, quarterly, weekly, or daily.\n",
    "#Examples\n",
    "#compound_interest(100, 1, 0.05, 1) ➞ 105.0\n",
    "\n",
    "#compound_interest(3500, 15, 0.1, 4) ➞ 15399.26\n",
    "\n",
    "#compound_interest(100000, 20, 0.15, 365) ➞ 2007316.26\n",
    "#compound_interest, amount=principal amount,A * (1+ interest rate, r/no of times compunded in perticular time period (n)) ^ (n * term for which amount is invested, t)\n",
    "# amount at maturity = A*(1+r/n)^(n*t)\n",
    "\n",
    "def compound_interest(a,t,r,n):\n",
    "    comp_int = a*(1+r/n)**(n*t)\n",
    "    return round(comp_int,ndigits=2)\n",
    "\n",
    "a,t,r,n=input(\"Enter principal amount, term, interest rate and no of times compounding is done:(','separated)\\t\").split(\",\")\n",
    "\n",
    "compound_interest(int(a),float(t),float(r),int(n))"
   ]
  },
  {
   "cell_type": "code",
   "execution_count": 21,
   "metadata": {
    "scrolled": true
   },
   "outputs": [
    {
     "data": {
      "text/plain": [
       "[81, 123]"
      ]
     },
     "execution_count": 21,
     "metadata": {},
     "output_type": "execute_result"
    }
   ],
   "source": [
    "#Question5\n",
    "#Write a function that takes a list of elements and returns only the integers.\n",
    "#Examples\n",
    "#return_only_integer([9, 2, \"space\", \"car\", \"lion\", 16]) ➞ [9, 2, 16]\n",
    "\n",
    "#return_only_integer([\"hello\", 81, \"basketball\", 123, \"fox\"]) ➞ [81, 123]\n",
    "\n",
    "#return_only_integer([10, \"121\", 56, 20, \"car\", 3, \"lion\"]) ➞ [10, 56, 20, 3]\n",
    "\n",
    "#return_only_integer([\"String\",  True,  3.3,  1]) ➞ [1]\n",
    "\n",
    "def return_only_integer(l1):\n",
    "    l = [i for i in l1 if type(i) == int]\n",
    "    return l\n",
    "\n",
    "return_only_integer([\"hello\", 81, \"basketball\", 123, \"fox\"])"
   ]
  },
  {
   "cell_type": "code",
   "execution_count": null,
   "metadata": {},
   "outputs": [],
   "source": []
  },
  {
   "cell_type": "code",
   "execution_count": null,
   "metadata": {},
   "outputs": [],
   "source": []
  }
 ],
 "metadata": {
  "kernelspec": {
   "display_name": "Python 3",
   "language": "python",
   "name": "python3"
  },
  "language_info": {
   "codemirror_mode": {
    "name": "ipython",
    "version": 3
   },
   "file_extension": ".py",
   "mimetype": "text/x-python",
   "name": "python",
   "nbconvert_exporter": "python",
   "pygments_lexer": "ipython3",
   "version": "3.8.3"
  }
 },
 "nbformat": 4,
 "nbformat_minor": 4
}
