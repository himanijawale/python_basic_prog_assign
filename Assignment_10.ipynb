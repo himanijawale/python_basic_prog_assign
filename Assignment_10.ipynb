{
 "cells": [
  {
   "cell_type": "code",
   "execution_count": 8,
   "metadata": {},
   "outputs": [
    {
     "name": "stdout",
     "output_type": "stream",
     "text": [
      "Enter number of elements in list:\t6\n",
      "Enter numbers\n",
      "1\n",
      "2\n",
      "1\n",
      "3\n",
      "23\n",
      "1\n",
      "[1, 2, 1, 3, 23, 1]\n",
      "Sum of all elements in list is  31\n"
     ]
    }
   ],
   "source": [
    "#Write a Python program to find sum of elements in list?\n",
    "l=[]\n",
    "num=int(input(\"Enter number of elements in list:\\t\"))\n",
    "print(\"Enter numbers\")\n",
    "for i in range(num):\n",
    "    l.append(int(input()))\n",
    "sum1=0\n",
    "print(l)\n",
    "for i in l:\n",
    "    sum1+=i\n",
    "print(\"Sum of all elements in list is \",sum1)"
   ]
  },
  {
   "cell_type": "code",
   "execution_count": 12,
   "metadata": {},
   "outputs": [
    {
     "name": "stdout",
     "output_type": "stream",
     "text": [
      "Enter number of elements in list:\t5\n",
      "Enter numbers\n",
      "15\n",
      "10\n",
      "20\n",
      "2\n",
      "3\n",
      "[15, 10, 20, 2, 3]\n",
      "Product of all elements in list is  18000\n"
     ]
    }
   ],
   "source": [
    "### Write a Python program to  Multiply all numbers in the list?\n",
    "l=[]\n",
    "num=int(input(\"Enter number of elements in list:\\t\"))\n",
    "print(\"Enter numbers\")\n",
    "for i in range(num):\n",
    "    l.append(int(input()))\n",
    "prod=1\n",
    "print(l)\n",
    "for i in l:\n",
    "    prod*=i\n",
    "print(\"Product of all elements in list is \",prod)"
   ]
  },
  {
   "cell_type": "code",
   "execution_count": 16,
   "metadata": {},
   "outputs": [
    {
     "name": "stdout",
     "output_type": "stream",
     "text": [
      "Enter number of elements in list:\t6\n",
      "Enter numbers\n",
      "23\n",
      "43\n",
      "21\n",
      "12\n",
      "0\n",
      "-4\n",
      "Smallest element in list is  -4\n"
     ]
    }
   ],
   "source": [
    "#Write a Python program to find smallest number in a list?\n",
    "l=[]\n",
    "num=int(input(\"Enter number of elements in list:\\t\"))\n",
    "print(\"Enter numbers\")\n",
    "for i in range(num):\n",
    "    l.append(int(input()))\n",
    "small=l[0]\n",
    "for i in l:\n",
    "    if small>i:\n",
    "        small=i\n",
    "print(\"Smallest element in list is \",small)"
   ]
  },
  {
   "cell_type": "code",
   "execution_count": 19,
   "metadata": {},
   "outputs": [
    {
     "name": "stdout",
     "output_type": "stream",
     "text": [
      "Enter number of elements in list:\t5\n",
      "Enter numbers\n",
      "90\n",
      "78\n",
      "56\n",
      "300\n",
      "0\n",
      "Largest element in list is  300\n"
     ]
    }
   ],
   "source": [
    "#Write a Python program to find largest number in a list?\n",
    "l=[]\n",
    "num=int(input(\"Enter number of elements in list:\\t\"))\n",
    "print(\"Enter numbers\")\n",
    "for i in range(num):\n",
    "    l.append(int(input()))\n",
    "lg=l[0]\n",
    "for i in l:\n",
    "    if lg<i:\n",
    "        lg=i\n",
    "print(\"Largest element in list is \",lg)"
   ]
  },
  {
   "cell_type": "code",
   "execution_count": 8,
   "metadata": {},
   "outputs": [
    {
     "name": "stdout",
     "output_type": "stream",
     "text": [
      "Enter number of elements in list:\t6\n",
      "Enter numbers\n",
      "746\n",
      "4534\n",
      "3546\n",
      "21\n",
      "3434\n",
      "343545\n",
      "Largest element in list is  4534\n"
     ]
    }
   ],
   "source": [
    "#Write a Python program to find second largest number in a list?\n",
    "l=[]\n",
    "num=int(input(\"Enter number of elements in list:\\t\"))\n",
    "print(\"Enter numbers\")\n",
    "for i in range(num):\n",
    "    l.append(int(input()))\n",
    "lg1=l[0]\n",
    "lg2=l[0]\n",
    "for i in l:\n",
    "    if lg1<i:\n",
    "        lg2=lg1\n",
    "        lg1=i\n",
    "print(\"Largest element in list is \",lg2)"
   ]
  },
  {
   "cell_type": "code",
   "execution_count": 24,
   "metadata": {},
   "outputs": [
    {
     "name": "stdout",
     "output_type": "stream",
     "text": [
      "Enter number of elements in list:\t6\n",
      "Enter numbers\n",
      "12\n",
      "11\n",
      "21\n",
      "22\n",
      "1\n",
      "3\n",
      "Enter number to print largest numbers in list:4\n",
      "N largest elements from a list are:\n",
      "22\n",
      "21\n",
      "12\n",
      "11\n"
     ]
    }
   ],
   "source": [
    "#Write a Python program to find N largest elements from a list?\n",
    "l=[]\n",
    "num=int(input(\"Enter number of elements in list:\\t\"))\n",
    "print(\"Enter numbers\")\n",
    "for i in range(num):\n",
    "    l.append(int(input()))\n",
    "n=int(input(\"Enter number to print largest numbers in list:\"))\n",
    "r=[]\n",
    "for i in range(n):\n",
    "    max1=l[0]\n",
    "    for j in range(num):\n",
    "        if l[j] > max1:\n",
    "            max1=l[j]\n",
    "    l.remove(max1)\n",
    "    num-=1\n",
    "    r.append(max1)\n",
    "print(\"N largest elements from a list are:\")\n",
    "for i in r:\n",
    "    print(i)"
   ]
  },
  {
   "cell_type": "code",
   "execution_count": 26,
   "metadata": {},
   "outputs": [
    {
     "name": "stdout",
     "output_type": "stream",
     "text": [
      "Enter number of elements in list:\t6\n",
      "Enter numbers\n",
      "1\n",
      "2\n",
      "3\n",
      "4\n",
      "5\n",
      "6\n",
      "Even numbers in list:\n",
      "2\n",
      "4\n",
      "6\n"
     ]
    }
   ],
   "source": [
    "#Write a Python program to print even numbers in a list?\n",
    "l=[]\n",
    "num=int(input(\"Enter number of elements in list:\\t\"))\n",
    "print(\"Enter numbers\")\n",
    "for i in range(num):\n",
    "    l.append(int(input()))\n",
    "print(\"Even numbers in list:\")\n",
    "for i in l:\n",
    "    if i%2 ==0:\n",
    "        print(i)"
   ]
  },
  {
   "cell_type": "code",
   "execution_count": 27,
   "metadata": {},
   "outputs": [
    {
     "name": "stdout",
     "output_type": "stream",
     "text": [
      "Enter number of elements in list:\t6\n",
      "Enter numbers\n",
      "1\n",
      "2\n",
      "3\n",
      "4\n",
      "5\n",
      "6\n",
      "Even numbers in list:\n",
      "1\n",
      "3\n",
      "5\n"
     ]
    }
   ],
   "source": [
    "#Write a Python program to print odd numbers in a List?\n",
    "l=[]\n",
    "num=int(input(\"Enter number of elements in list:\\t\"))\n",
    "print(\"Enter numbers\")\n",
    "for i in range(num):\n",
    "    l.append(int(input()))\n",
    "print(\"Even numbers in list:\")\n",
    "for i in l:\n",
    "    if i%2 ==1:\n",
    "        print(i)"
   ]
  },
  {
   "cell_type": "code",
   "execution_count": 39,
   "metadata": {},
   "outputs": [
    {
     "name": "stdout",
     "output_type": "stream",
     "text": [
      "The list without empty lists:\t [[2], [4, 3], [3, 5], [1, 2]]\n"
     ]
    }
   ],
   "source": [
    "#Write a Python program to Remove empty List from List?\n",
    "l=[[],[],[2],[],[4,3],[3,5],[],[1,2]]\n",
    "result=[]\n",
    "for i in range(len(l)):\n",
    "    if type(l[i])==list and l[i]==[]:\n",
    "        continue\n",
    "    result.append(l[i])\n",
    "print(\"The list without empty lists:\\t\",result)     "
   ]
  },
  {
   "cell_type": "code",
   "execution_count": 41,
   "metadata": {},
   "outputs": [
    {
     "name": "stdout",
     "output_type": "stream",
     "text": [
      "Enter number of elements in list:\t5\n",
      "Enter numbers\n",
      "2\n",
      "3\n",
      "4\n",
      "5\n",
      "6\n",
      "Original list:\t [2, 3, 4, 5, 6]\n",
      "Updated list:\t [100, 3, 4, 5, 6]\n"
     ]
    }
   ],
   "source": [
    "#Write a Python program to Cloning or Copying a list?\n",
    "l=[]\n",
    "num=int(input(\"Enter number of elements in list:\\t\"))\n",
    "print(\"Enter numbers\")\n",
    "for i in range(num):\n",
    "    l.append(int(input()))\n",
    "    \n",
    "result = l[:]\n",
    "result[0]=100\n",
    "print(\"Original list:\\t\",l)\n",
    "print(\"Updated list:\\t\",result)"
   ]
  },
  {
   "cell_type": "code",
   "execution_count": 43,
   "metadata": {},
   "outputs": [
    {
     "name": "stdout",
     "output_type": "stream",
     "text": [
      "Enter number of elements in list:\t12\n",
      "Enter numbers\n",
      "12\n",
      "12\n",
      "12\n",
      "23\n",
      "4\n",
      "3\n",
      "12\n",
      "12\n",
      "33\n",
      "44\n",
      "2\n",
      "1\n",
      "Enter number to find occurence:\t12\n",
      "The count occurences of 12 in list is 5\n"
     ]
    }
   ],
   "source": [
    "#Write a Python program to Count occurrences of an element in a list?\n",
    "l=[]\n",
    "num=int(input(\"Enter number of elements in list:\\t\"))\n",
    "print(\"Enter numbers\")\n",
    "for i in range(num):\n",
    "    l.append(int(input()))\n",
    "occ=int(input(\"Enter number to find occurence:\\t\"))\n",
    "c=0\n",
    "for i in l:\n",
    "    if i==occ:\n",
    "        c+=1\n",
    "print(\"The count occurences of {} in list is {}\".format(occ,c))"
   ]
  },
  {
   "cell_type": "code",
   "execution_count": null,
   "metadata": {},
   "outputs": [],
   "source": []
  }
 ],
 "metadata": {
  "kernelspec": {
   "display_name": "Python 3",
   "language": "python",
   "name": "python3"
  },
  "language_info": {
   "codemirror_mode": {
    "name": "ipython",
    "version": 3
   },
   "file_extension": ".py",
   "mimetype": "text/x-python",
   "name": "python",
   "nbconvert_exporter": "python",
   "pygments_lexer": "ipython3",
   "version": "3.8.3"
  }
 },
 "nbformat": 4,
 "nbformat_minor": 4
}
